{
  "nbformat": 4,
  "nbformat_minor": 0,
  "metadata": {
    "colab": {
      "name": "SR 14.ipynb",
      "provenance": [],
      "authorship_tag": "ABX9TyPJCsh5MMqN7qx1Jz9+4Jyt"
    },
    "kernelspec": {
      "name": "python3",
      "display_name": "Python 3"
    },
    "language_info": {
      "name": "python"
    }
  },
  "cells": [
    {
      "cell_type": "code",
      "execution_count": 1,
      "metadata": {
        "id": "LLZ7EAkrM-mr"
      },
      "outputs": [],
      "source": [
        "x = [1, 3, 2, 4, 5, 6, 1, 3]\n",
        "w = [1, 0, 3, 1, 2]"
      ]
    },
    {
      "cell_type": "code",
      "source": [
        ""
      ],
      "metadata": {
        "id": "nSmBTHG8NDkM"
      },
      "execution_count": null,
      "outputs": []
    }
  ]
}