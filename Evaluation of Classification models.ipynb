{
    "cells": [
        {
            "cell_type": "code", 
            "execution_count": 1, 
            "metadata": {}, 
            "source": "# read the data into a Pandas DataFrame\nimport pandas as pd\nurl = 'https://archive.ics.uci.edu/ml/machine-learning-databases/pima-indians-diabetes/pima-indians-diabetes.data'\ncol_names = ['pregnant', 'glucose', 'bp', 'skin', 'insulin', 'bmi', 'pedigree', 'age', 'label']\npima = pd.read_csv(url, header=None, names=col_names)", 
            "outputs": []
        }, 
        {
            "cell_type": "code", 
            "execution_count": 2, 
            "metadata": {}, 
            "source": "# print the first 5 rows of data\npima.head()", 
            "outputs": [
                {
                    "output_type": "execute_result", 
                    "execution_count": 2, 
                    "metadata": {}, 
                    "data": {
                        "text/html": "<div>\n<table border=\"1\" class=\"dataframe\">\n  <thead>\n    <tr style=\"text-align: right;\">\n      <th></th>\n      <th>pregnant</th>\n      <th>glucose</th>\n      <th>bp</th>\n      <th>skin</th>\n      <th>insulin</th>\n      <th>bmi</th>\n      <th>pedigree</th>\n      <th>age</th>\n      <th>label</th>\n    </tr>\n  </thead>\n  <tbody>\n    <tr>\n      <th>0</th>\n      <td>6</td>\n      <td>148</td>\n      <td>72</td>\n      <td>35</td>\n      <td>0</td>\n      <td>33.6</td>\n      <td>0.627</td>\n      <td>50</td>\n      <td>1</td>\n    </tr>\n    <tr>\n      <th>1</th>\n      <td>1</td>\n      <td>85</td>\n      <td>66</td>\n      <td>29</td>\n      <td>0</td>\n      <td>26.6</td>\n      <td>0.351</td>\n      <td>31</td>\n      <td>0</td>\n    </tr>\n    <tr>\n      <th>2</th>\n      <td>8</td>\n      <td>183</td>\n      <td>64</td>\n      <td>0</td>\n      <td>0</td>\n      <td>23.3</td>\n      <td>0.672</td>\n      <td>32</td>\n      <td>1</td>\n    </tr>\n    <tr>\n      <th>3</th>\n      <td>1</td>\n      <td>89</td>\n      <td>66</td>\n      <td>23</td>\n      <td>94</td>\n      <td>28.1</td>\n      <td>0.167</td>\n      <td>21</td>\n      <td>0</td>\n    </tr>\n    <tr>\n      <th>4</th>\n      <td>0</td>\n      <td>137</td>\n      <td>40</td>\n      <td>35</td>\n      <td>168</td>\n      <td>43.1</td>\n      <td>2.288</td>\n      <td>33</td>\n      <td>1</td>\n    </tr>\n  </tbody>\n</table>\n</div>", 
                        "text/plain": "   pregnant  glucose  bp  skin  insulin   bmi  pedigree  age  label\n0         6      148  72    35        0  33.6     0.627   50      1\n1         1       85  66    29        0  26.6     0.351   31      0\n2         8      183  64     0        0  23.3     0.672   32      1\n3         1       89  66    23       94  28.1     0.167   21      0\n4         0      137  40    35      168  43.1     2.288   33      1"
                    }
                }
            ]
        }, 
        {
            "cell_type": "code", 
            "execution_count": 3, 
            "metadata": {}, 
            "source": "# define X and y\nfeature_cols = ['pregnant', 'insulin', 'bmi', 'age']\nX = pima[feature_cols]\ny = pima.label", 
            "outputs": []
        }, 
        {
            "cell_type": "code", 
            "execution_count": 4, 
            "metadata": {}, 
            "source": "# split X and y into training and testing sets\nfrom sklearn.cross_validation import train_test_split\nX_train, X_test, y_train, y_test = train_test_split(X, y, random_state=0)\n\n# train a logistic regression model on the training set\nfrom sklearn.linear_model import LogisticRegression\nlogreg = LogisticRegression()\nlogreg.fit(X_train, y_train)", 
            "outputs": [
                {
                    "output_type": "execute_result", 
                    "execution_count": 4, 
                    "metadata": {}, 
                    "data": {
                        "text/plain": "LogisticRegression(C=1.0, class_weight=None, dual=False, fit_intercept=True,\n          intercept_scaling=1, max_iter=100, multi_class='ovr', n_jobs=1,\n          penalty='l2', random_state=None, solver='liblinear', tol=0.0001,\n          verbose=0, warm_start=False)"
                    }
                }
            ]
        }, 
        {
            "cell_type": "code", 
            "execution_count": 5, 
            "metadata": {}, 
            "source": "# make class predictions for the testing set\ny_pred_class = logreg.predict(X_test)\n\n\n# calculate accuracy\nfrom sklearn import metrics\nprint(metrics.accuracy_score(y_test, y_pred_class))", 
            "outputs": [
                {
                    "output_type": "stream", 
                    "text": "0.692708333333\n", 
                    "name": "stdout"
                }
            ]
        }, 
        {
            "cell_type": "code", 
            "execution_count": 6, 
            "metadata": {}, 
            "source": "# % of accurate predictions", 
            "outputs": []
        }, 
        {
            "cell_type": "code", 
            "execution_count": 7, 
            "metadata": {}, 
            "source": "# examine the class distribution of the testing set (using a Pandas Series method)\ny_test.value_counts()", 
            "outputs": [
                {
                    "output_type": "execute_result", 
                    "execution_count": 7, 
                    "metadata": {}, 
                    "data": {
                        "text/plain": "0    130\n1     62\nName: label, dtype: int64"
                    }
                }
            ]
        }, 
        {
            "cell_type": "code", 
            "execution_count": 8, 
            "metadata": {}, 
            "source": "# calculate the percentage of ones\ny_test.mean()", 
            "outputs": [
                {
                    "output_type": "execute_result", 
                    "execution_count": 8, 
                    "metadata": {}, 
                    "data": {
                        "text/plain": "0.3229166666666667"
                    }
                }
            ]
        }, 
        {
            "cell_type": "code", 
            "execution_count": 9, 
            "metadata": {}, 
            "source": "# calculate the percentage of zeros\n1 - y_test.mean()", 
            "outputs": [
                {
                    "output_type": "execute_result", 
                    "execution_count": 9, 
                    "metadata": {}, 
                    "data": {
                        "text/plain": "0.6770833333333333"
                    }
                }
            ]
        }, 
        {
            "cell_type": "code", 
            "execution_count": 10, 
            "metadata": {}, 
            "source": "# calculate null accuracy (for binary classification problems coded as 0/1)\nmax(y_test.mean(), 1 - y_test.mean())\n# NULL Accuracy is te accuracy achieved by always predicting the most frequent class\n# in this case it is the 0 class", 
            "outputs": [
                {
                    "output_type": "execute_result", 
                    "execution_count": 10, 
                    "metadata": {}, 
                    "data": {
                        "text/plain": "0.6770833333333333"
                    }
                }
            ]
        }, 
        {
            "cell_type": "code", 
            "execution_count": 11, 
            "metadata": {}, 
            "source": "# calculate null accuracy (for multi-class classification problems)\ny_test.value_counts().head(1) / len(y_test)", 
            "outputs": [
                {
                    "output_type": "execute_result", 
                    "execution_count": 11, 
                    "metadata": {}, 
                    "data": {
                        "text/plain": "0    0.677083\nName: label, dtype: float64"
                    }
                }
            ]
        }, 
        {
            "cell_type": "markdown", 
            "source": "### compare the above with the 0.692708333333 obtained fromt he metrics.accuracy score.", 
            "metadata": {}
        }, 
        {
            "cell_type": "code", 
            "execution_count": 12, 
            "metadata": {}, 
            "source": "# print the first 25 true and predicted responses\nfrom __future__ import print_function\nprint('True:', y_test.values[0:25])\nprint('Pred:', y_pred_class[0:25])", 
            "outputs": [
                {
                    "output_type": "stream", 
                    "text": "True: [1 0 0 1 0 0 1 1 0 0 1 1 0 0 0 0 1 0 0 0 1 1 0 0 0]\nPred: [0 0 0 0 0 0 0 1 0 1 0 1 0 0 0 0 0 0 0 0 0 0 0 0 0]\n", 
                    "name": "stdout"
                }
            ]
        }, 
        {
            "cell_type": "markdown", 
            "source": "#### Classification accuracy.. is easy to grasp.. but the underlying errors cannot be categorised..", 
            "metadata": {}
        }, 
        {
            "cell_type": "markdown", 
            "source": "### Classification matrix", 
            "metadata": {}
        }, 
        {
            "cell_type": "code", 
            "execution_count": 13, 
            "metadata": {}, 
            "source": "# IMPORTANT: first argument is true values, second argument is predicted values\nprint(metrics.confusion_matrix(y_test, y_pred_class))", 
            "outputs": [
                {
                    "output_type": "stream", 
                    "text": "[[118  12]\n [ 47  15]]\n", 
                    "name": "stdout"
                }
            ]
        }, 
        {
            "cell_type": "code", 
            "execution_count": 14, 
            "metadata": {}, 
            "source": "# print the first 25 true and predicted responses\nprint('True:', y_test.values[0:25])\nprint('Pred:', y_pred_class[0:25])", 
            "outputs": [
                {
                    "output_type": "stream", 
                    "text": "True: [1 0 0 1 0 0 1 1 0 0 1 1 0 0 0 0 1 0 0 0 1 1 0 0 0]\nPred: [0 0 0 0 0 0 0 1 0 1 0 1 0 0 0 0 0 0 0 0 0 0 0 0 0]\n", 
                    "name": "stdout"
                }
            ]
        }, 
        {
            "cell_type": "code", 
            "execution_count": 15, 
            "metadata": {}, 
            "source": "# save confusion matrix and slice into four pieces\nconfusion = metrics.confusion_matrix(y_test, y_pred_class)\nTP = confusion[1, 1]\nTN = confusion[0, 0]\nFP = confusion[0, 1] # type 1 error\nFN = confusion[1, 0] # type 2 error", 
            "outputs": []
        }, 
        {
            "cell_type": "code", 
            "execution_count": 16, 
            "metadata": {}, 
            "source": "# Classificaiton accuracy\n# how often was the classifier correct\n\n\nprint((TP + TN) / float(TP + TN + FP + FN))\nprint(metrics.accuracy_score(y_test, y_pred_class))", 
            "outputs": [
                {
                    "output_type": "stream", 
                    "text": "0.692708333333\n0.692708333333\n", 
                    "name": "stdout"
                }
            ]
        }, 
        {
            "cell_type": "code", 
            "execution_count": 17, 
            "metadata": {}, 
            "source": "# how often was it incorrect\nprint((FP + FN) / float(TP + TN + FP + FN))\nprint(1 - metrics.accuracy_score(y_test, y_pred_class))", 
            "outputs": [
                {
                    "output_type": "stream", 
                    "text": "0.307291666667\n0.307291666667\n", 
                    "name": "stdout"
                }
            ]
        }, 
        {
            "cell_type": "markdown", 
            "source": "### Sensitivity\n#### When the actual value was positive.. how often was the classifier right..?\n\n###### how sensitive was the classifier at detecting positive instances a.k.a true positive or recall rate", 
            "metadata": {}
        }, 
        {
            "cell_type": "code", 
            "execution_count": 18, 
            "metadata": {}, 
            "source": "print(TP / float(TP + FN))\nprint(metrics.recall_score(y_test, y_pred_class))", 
            "outputs": [
                {
                    "output_type": "stream", 
                    "text": "0.241935483871\n0.241935483871\n", 
                    "name": "stdout"
                }
            ]
        }, 
        {
            "cell_type": "markdown", 
            "source": "### Specificity\n#### when the actual value was negative.. how often did the classifier predict negative\n##### aka how often or selective the classifier was in predicting positive instances...", 
            "metadata": {}
        }, 
        {
            "cell_type": "code", 
            "execution_count": 19, 
            "metadata": {}, 
            "source": "print(TN / float(TN + FP))", 
            "outputs": [
                {
                    "output_type": "stream", 
                    "text": "0.907692307692\n", 
                    "name": "stdout"
                }
            ]
        }, 
        {
            "cell_type": "markdown", 
            "source": "### false positive rate\n#### ~duh", 
            "metadata": {}
        }, 
        {
            "cell_type": "code", 
            "execution_count": 20, 
            "metadata": {}, 
            "source": "print(FP / float(TN + FP))", 
            "outputs": [
                {
                    "output_type": "stream", 
                    "text": "0.0923076923077\n", 
                    "name": "stdout"
                }
            ]
        }, 
        {
            "cell_type": "markdown", 
            "source": "### Precision\n#### when a positive value is predicted..  how often was it correct", 
            "metadata": {}
        }, 
        {
            "cell_type": "code", 
            "execution_count": 21, 
            "metadata": {}, 
            "source": "print(TP / float(TP + FP))\nprint(metrics.precision_score(y_test, y_pred_class))", 
            "outputs": [
                {
                    "output_type": "stream", 
                    "text": "0.555555555556\n0.555555555556\n", 
                    "name": "stdout"
                }
            ]
        }, 
        {
            "cell_type": "markdown", 
            "source": "## Adjusting classificaiton threshold", 
            "metadata": {}
        }, 
        {
            "cell_type": "code", 
            "execution_count": 22, 
            "metadata": {}, 
            "source": "# print the first 10 predicted responses\nlogreg.predict(X_test)[0:10]", 
            "outputs": [
                {
                    "output_type": "execute_result", 
                    "execution_count": 22, 
                    "metadata": {}, 
                    "data": {
                        "text/plain": "array([0, 0, 0, 0, 0, 0, 0, 1, 0, 1])"
                    }
                }
            ]
        }, 
        {
            "cell_type": "code", 
            "execution_count": 23, 
            "metadata": {}, 
            "source": "# print the first 10 predicted probabilities of class membership\nlogreg.predict_proba(X_test)[0:10, :]", 
            "outputs": [
                {
                    "output_type": "execute_result", 
                    "execution_count": 23, 
                    "metadata": {}, 
                    "data": {
                        "text/plain": "array([[ 0.63247571,  0.36752429],\n       [ 0.71643656,  0.28356344],\n       [ 0.71104114,  0.28895886],\n       [ 0.5858938 ,  0.4141062 ],\n       [ 0.84103973,  0.15896027],\n       [ 0.82934844,  0.17065156],\n       [ 0.50110974,  0.49889026],\n       [ 0.48658459,  0.51341541],\n       [ 0.72321388,  0.27678612],\n       [ 0.32810562,  0.67189438]])"
                    }
                }
            ]
        }, 
        {
            "cell_type": "code", 
            "execution_count": 24, 
            "metadata": {}, 
            "source": "\n\n# print the first 10 predicted probabilities for class 1\nlogreg.predict_proba(X_test)[0:10, 1]", 
            "outputs": [
                {
                    "output_type": "execute_result", 
                    "execution_count": 24, 
                    "metadata": {}, 
                    "data": {
                        "text/plain": "array([ 0.36752429,  0.28356344,  0.28895886,  0.4141062 ,  0.15896027,\n        0.17065156,  0.49889026,  0.51341541,  0.27678612,  0.67189438])"
                    }
                }
            ]
        }, 
        {
            "cell_type": "code", 
            "execution_count": 25, 
            "metadata": {}, 
            "source": "# store the predicted probabilities for class 1\ny_pred_prob = logreg.predict_proba(X_test)[:, 1]", 
            "outputs": []
        }, 
        {
            "cell_type": "code", 
            "execution_count": 26, 
            "metadata": {}, 
            "source": "\n\n# allow plots to appear in the notebook\n%matplotlib inline\nimport matplotlib.pyplot as plt\nplt.rcParams['font.size'] = 14\n# histogram of predicted probabilities\nplt.hist(y_pred_prob, bins=8)\nplt.xlim(0, 1)\nplt.title('Histogram of predicted probabilities')\nplt.xlabel('Predicted probability of diabetes')\nplt.ylabel('Frequency')\n", 
            "outputs": [
                {
                    "output_type": "execute_result", 
                    "execution_count": 26, 
                    "metadata": {}, 
                    "data": {
                        "text/plain": "<matplotlib.text.Text at 0x7f250d3345f8>"
                    }
                }, 
                {
                    "output_type": "display_data", 
                    "metadata": {}, 
                    "data": {
                        "image/png": "[encoded data removed]", 
                        "text/plain": "<matplotlib.figure.Figure at 0x7f250d576400>"
                    }
                }
            ]
        }, 
        {
            "cell_type": "code", 
            "execution_count": 27, 
            "metadata": {}, 
            "source": "# predict diabetes if the predicted probability is greater than 0.3\nfrom sklearn.preprocessing import binarize\ny_pred_class = binarize([y_pred_prob], 0.4)[0]", 
            "outputs": []
        }, 
        {
            "cell_type": "code", 
            "execution_count": 28, 
            "metadata": {}, 
            "source": "# print the first 10 predicted probabilities\ny_pred_prob[0:10]", 
            "outputs": [
                {
                    "output_type": "execute_result", 
                    "execution_count": 28, 
                    "metadata": {}, 
                    "data": {
                        "text/plain": "array([ 0.36752429,  0.28356344,  0.28895886,  0.4141062 ,  0.15896027,\n        0.17065156,  0.49889026,  0.51341541,  0.27678612,  0.67189438])"
                    }
                }
            ]
        }, 
        {
            "cell_type": "code", 
            "execution_count": 29, 
            "metadata": {}, 
            "source": "# print the first 10 predicted classes with the lower threshold\ny_pred_class[0:10]", 
            "outputs": [
                {
                    "output_type": "execute_result", 
                    "execution_count": 29, 
                    "metadata": {}, 
                    "data": {
                        "text/plain": "array([ 0.,  0.,  0.,  1.,  0.,  0.,  1.,  1.,  0.,  1.])"
                    }
                }
            ]
        }, 
        {
            "cell_type": "code", 
            "execution_count": 30, 
            "metadata": {}, 
            "source": "# previous confusion matrix (default threshold of 0.5)\nprint(confusion)", 
            "outputs": [
                {
                    "output_type": "stream", 
                    "text": "[[118  12]\n [ 47  15]]\n", 
                    "name": "stdout"
                }
            ]
        }, 
        {
            "cell_type": "code", 
            "execution_count": 31, 
            "metadata": {}, 
            "source": "# new confusion matrix (threshold of 0.3)\nprint(metrics.confusion_matrix(y_test, y_pred_class))", 
            "outputs": [
                {
                    "output_type": "stream", 
                    "text": "[[97 33]\n [31 31]]\n", 
                    "name": "stdout"
                }
            ]
        }, 
        {
            "cell_type": "markdown", 
            "source": "### ROC Curves and Area Under the Curve (AUC)", 
            "metadata": {}
        }, 
        {
            "cell_type": "markdown", 
            "source": "### how sensitivity and specificity are affected by various thresholds, without actually changing the threshold?", 
            "metadata": {}
        }, 
        {
            "cell_type": "code", 
            "execution_count": 32, 
            "metadata": {}, 
            "source": "# IMPORTANT: first argument is true values, second argument is predicted probabilities\nfpr, tpr, thresholds = metrics.roc_curve(y_test, y_pred_prob)\nplt.plot(fpr, tpr)\nplt.xlim([0.0, 1.0])\nplt.ylim([0.0, 1.0])\nplt.title('ROC curve for diabetes classifier')\nplt.xlabel('False Positive Rate (1 - Specificity)')\nplt.ylabel('True Positive Rate (Sensitivity)')\nplt.grid(True)", 
            "outputs": [
                {
                    "output_type": "display_data", 
                    "metadata": {}, 
                    "data": {
                        "image/png": "[encoded data removed]", 
                        "text/plain": "<matplotlib.figure.Figure at 0x7f250d1b69b0>"
                    }
                }
            ]
        }, 
        {
            "cell_type": "markdown", 
            "source": "####    ROC curve can help you to choose a threshold that balances sensitivity and specificity in a way that makes sense for your particular context\n####   You can't actually see the thresholds used to generate the curve on the ROC curve itself", 
            "metadata": {}
        }, 
        {
            "cell_type": "code", 
            "execution_count": 33, 
            "metadata": {}, 
            "source": "## Once again \n# sensitivity: when the actual resutl was positive.. how often did the classifier show positve...\n#Specificity: when the actual value was negative.. how often did the classifier actually show negative", 
            "outputs": []
        }, 
        {
            "cell_type": "code", 
            "execution_count": 34, 
            "metadata": {}, 
            "source": "# define a function that accepts a threshold and prints sensitivity and specificity\ndef evaluate_threshold(threshold):\n    print('Sensitivity:', tpr[thresholds > threshold][-1])\n    print('Specificity:', 1 - fpr[thresholds > threshold][-1])", 
            "outputs": []
        }, 
        {
            "cell_type": "code", 
            "execution_count": 35, 
            "metadata": {}, 
            "source": "evaluate_threshold(0.5)", 
            "outputs": [
                {
                    "output_type": "stream", 
                    "text": "Sensitivity: 0.241935483871\nSpecificity: 0.907692307692\n", 
                    "name": "stdout"
                }
            ]
        }, 
        {
            "cell_type": "code", 
            "execution_count": 36, 
            "metadata": {}, 
            "source": "# IMPORTANT: first argument is true values, second argument is predicted probabilities\nprint(metrics.roc_auc_score(y_test, y_pred_prob))", 
            "outputs": [
                {
                    "output_type": "stream", 
                    "text": "0.724565756824\n", 
                    "name": "stdout"
                }
            ]
        }, 
        {
            "cell_type": "markdown", 
            "source": "##### AUC is useful as a single number summary of classifier performance. <br>\n##### If you randomly chose one positive and one negative observation, AUC represents the likelihood that your classifier will assign a higher predicted probability to the positive observation. <br>\n##### AUC is useful even when there is high class imbalance (unlike classification accuracy)<br>", 
            "metadata": {
                "collapsed": true
            }
        }, 
        {
            "cell_type": "markdown", 
            "source": "#### Confustion matrix\nAllows you to compute a range of metrics\nuseful for multiclass problems\n\n#### AUC ROC advantages:\nDoesnt require you to set a classificaiton threshold\nUseful when there is a high class imbalance..", 
            "metadata": {}
        }, 
        {
            "cell_type": "code", 
            "execution_count": null, 
            "metadata": {}, 
            "source": "", 
            "outputs": []
        }
    ], 
    "nbformat": 4, 
    "nbformat_minor": 1, 
    "metadata": {
        "kernelspec": {
            "language": "python", 
            "display_name": "Python 3.5 (Experimental) with Spark 2.1", 
            "name": "python3-spark21"
        }, 
        "language_info": {
            "pygments_lexer": "ipython3", 
            "mimetype": "text/x-python", 
            "nbconvert_exporter": "python", 
            "name": "python", 
            "file_extension": ".py", 
            "version": "3.5.2", 
            "codemirror_mode": {
                "version": 3, 
                "name": "ipython"
            }
        }
    }
}