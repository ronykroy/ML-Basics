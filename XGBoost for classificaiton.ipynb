{
    "cells": [
        {
            "cell_type": "code", 
            "execution_count": 2, 
            "metadata": {}, 
            "source": "!pip install wget --user", 
            "outputs": [
                {
                    "output_type": "stream", 
                    "text": "Requirement already satisfied (use --upgrade to upgrade): wget in /gpfs/global_fs01/sym_shared/YPProdSpark/user/sa0d-218294071c3031-cf228a6161b9/.local/lib/python3.5/site-packages\r\n", 
                    "name": "stdout"
                }
            ]
        }, 
        {
            "cell_type": "code", 
            "execution_count": 3, 
            "metadata": {}, 
            "source": "import wget\n\nlink_to_data = 'http://archive.ics.uci.edu/ml/machine-learning-databases/heart-disease/processed.cleveland.data'\nClevelandDataSet = wget.download(link_to_data)\n\nprint(ClevelandDataSet)\n\n# get data", 
            "outputs": [
                {
                    "output_type": "stream", 
                    "text": "processed.cleveland (1).data\n", 
                    "name": "stdout"
                }
            ]
        }, 
        {
            "cell_type": "code", 
            "execution_count": 4, 
            "metadata": {}, 
            "source": "import pandas as pd\ncol_names = ['age','sex','cp','restbp','chol','fbs','restecg','thalach','exang','oldpeak','slope','ca','thal','num']\n\nheart_data_df = pd.read_csv(ClevelandDataSet, sep=',', header=None, names=col_names, na_filter= True, na_values= {'ca': '?', 'thal': '?'})\nheart_data_df.head()", 
            "outputs": [
                {
                    "output_type": "execute_result", 
                    "execution_count": 4, 
                    "metadata": {}, 
                    "data": {
                        "text/html": "<div>\n<table border=\"1\" class=\"dataframe\">\n  <thead>\n    <tr style=\"text-align: right;\">\n      <th></th>\n      <th>age</th>\n      <th>sex</th>\n      <th>cp</th>\n      <th>restbp</th>\n      <th>chol</th>\n      <th>fbs</th>\n      <th>restecg</th>\n      <th>thalach</th>\n      <th>exang</th>\n      <th>oldpeak</th>\n      <th>slope</th>\n      <th>ca</th>\n      <th>thal</th>\n      <th>num</th>\n    </tr>\n  </thead>\n  <tbody>\n    <tr>\n      <th>0</th>\n      <td>63.0</td>\n      <td>1.0</td>\n      <td>1.0</td>\n      <td>145.0</td>\n      <td>233.0</td>\n      <td>1.0</td>\n      <td>2.0</td>\n      <td>150.0</td>\n      <td>0.0</td>\n      <td>2.3</td>\n      <td>3.0</td>\n      <td>0.0</td>\n      <td>6.0</td>\n      <td>0</td>\n    </tr>\n    <tr>\n      <th>1</th>\n      <td>67.0</td>\n      <td>1.0</td>\n      <td>4.0</td>\n      <td>160.0</td>\n      <td>286.0</td>\n      <td>0.0</td>\n      <td>2.0</td>\n      <td>108.0</td>\n      <td>1.0</td>\n      <td>1.5</td>\n      <td>2.0</td>\n      <td>3.0</td>\n      <td>3.0</td>\n      <td>2</td>\n    </tr>\n    <tr>\n      <th>2</th>\n      <td>67.0</td>\n      <td>1.0</td>\n      <td>4.0</td>\n      <td>120.0</td>\n      <td>229.0</td>\n      <td>0.0</td>\n      <td>2.0</td>\n      <td>129.0</td>\n      <td>1.0</td>\n      <td>2.6</td>\n      <td>2.0</td>\n      <td>2.0</td>\n      <td>7.0</td>\n      <td>1</td>\n    </tr>\n    <tr>\n      <th>3</th>\n      <td>37.0</td>\n      <td>1.0</td>\n      <td>3.0</td>\n      <td>130.0</td>\n      <td>250.0</td>\n      <td>0.0</td>\n      <td>0.0</td>\n      <td>187.0</td>\n      <td>0.0</td>\n      <td>3.5</td>\n      <td>3.0</td>\n      <td>0.0</td>\n      <td>3.0</td>\n      <td>0</td>\n    </tr>\n    <tr>\n      <th>4</th>\n      <td>41.0</td>\n      <td>0.0</td>\n      <td>2.0</td>\n      <td>130.0</td>\n      <td>204.0</td>\n      <td>0.0</td>\n      <td>2.0</td>\n      <td>172.0</td>\n      <td>0.0</td>\n      <td>1.4</td>\n      <td>1.0</td>\n      <td>0.0</td>\n      <td>3.0</td>\n      <td>0</td>\n    </tr>\n  </tbody>\n</table>\n</div>", 
                        "text/plain": "    age  sex   cp  restbp   chol  fbs  restecg  thalach  exang  oldpeak  \\\n0  63.0  1.0  1.0   145.0  233.0  1.0      2.0    150.0    0.0      2.3   \n1  67.0  1.0  4.0   160.0  286.0  0.0      2.0    108.0    1.0      1.5   \n2  67.0  1.0  4.0   120.0  229.0  0.0      2.0    129.0    1.0      2.6   \n3  37.0  1.0  3.0   130.0  250.0  0.0      0.0    187.0    0.0      3.5   \n4  41.0  0.0  2.0   130.0  204.0  0.0      2.0    172.0    0.0      1.4   \n\n   slope   ca  thal  num  \n0    3.0  0.0   6.0    0  \n1    2.0  3.0   3.0    2  \n2    2.0  2.0   7.0    1  \n3    3.0  0.0   3.0    0  \n4    1.0  0.0   3.0    0  "
                    }
                }
            ]
        }, 
        {
            "cell_type": "code", 
            "execution_count": 5, 
            "metadata": {}, 
            "source": "heart_data_df.shape # pandas DF L x B", 
            "outputs": [
                {
                    "output_type": "execute_result", 
                    "execution_count": 5, 
                    "metadata": {}, 
                    "data": {
                        "text/plain": "(303, 14)"
                    }
                }
            ]
        }, 
        {
            "cell_type": "code", 
            "execution_count": 6, 
            "metadata": {}, 
            "source": "import xgboost as xgb\n\nimport pandas as pd\n\nfrom sklearn import cross_validation\nfrom sklearn.metrics import accuracy_score\n\nfrom matplotlib import pyplot\nimport pprint\n%matplotlib inline", 
            "outputs": []
        }, 
        {
            "cell_type": "code", 
            "execution_count": 7, 
            "metadata": {}, 
            "source": "print(\"List of features with their corresponding count of null values : \")\nprint(\"---------------------------------------------------------------- \")\nprint(heart_data_df.isnull().sum())", 
            "outputs": [
                {
                    "output_type": "stream", 
                    "text": "List of features with their corresponding count of null values : \n---------------------------------------------------------------- \nage        0\nsex        0\ncp         0\nrestbp     0\nchol       0\nfbs        0\nrestecg    0\nthalach    0\nexang      0\noldpeak    0\nslope      0\nca         4\nthal       2\nnum        0\ndtype: int64\n", 
                    "name": "stdout"
                }
            ]
        }, 
        {
            "cell_type": "code", 
            "execution_count": 8, 
            "metadata": {}, 
            "source": "heart_data_df = heart_data_df.dropna(how='any',axis=0) # drop the NA valued cells/columns so that you get a cleaner set", 
            "outputs": []
        }, 
        {
            "cell_type": "code", 
            "execution_count": 9, 
            "metadata": {}, 
            "source": "heart_data_df['diagnosed'] = heart_data_df['num'].map(lambda d: 1 if d > 0 else 0) # set target column\n# to be derived form the num column...", 
            "outputs": []
        }, 
        {
            "cell_type": "markdown", 
            "source": "    age - age in years \n    sex - sex(1 = male; 0 = female)\n    cp - chest pain type (1 = typical angina; 2 = atypical angina; 3 = non-anginal pain; 4 = asymptomatic)\n    trestbps - resting blood pressure (in mm Hg on admission to the hospital)\n    chol - serum cholestoral in mg/dl\n    fbs - fasting blood sugar > 120 mg/dl (1 = true; 0 = false)\n    restecg - resting electrocardiographic results (0 = normal; 1 = having ST-T; 2 = hypertrophy)\n    thalach - maximum heart rate achieved\n    exang - exercise induced angina (1 = yes; 0 = no)\n    oldpeak - ST depression induced by exercise relative to rest\n    slope - the slope of the peak exercise ST segment (1 = upsloping; 2 = flat; 3 = downsloping)\n    ca - number of major vessels (0-3) colored by flourosopy\n    thal - 3 = normal; 6 = fixed defect; 7 = reversable defect\n    num - the predicted attribute - diagnosis of heart disease (angiographic disease status) (Value 0 = < 50% diameter narrowing; Value 1 = > 50% diameter narrowing)", 
            "metadata": {}
        }, 
        {
            "cell_type": "code", 
            "execution_count": 10, 
            "metadata": {}, 
            "source": "heart_data_df['diagnosed'] = heart_data_df['num'].map(lambda d: 1 if d > 0 else 0)", 
            "outputs": []
        }, 
        {
            "cell_type": "code", 
            "execution_count": 11, 
            "metadata": {}, 
            "source": "feature_cols = ['age','sex','cp','restbp','chol','fbs','restecg','thalach','exang','oldpeak','slope','ca','thal']\nfeatures_df = heart_data_df[feature_cols]\n#features for training", 
            "outputs": []
        }, 
        {
            "cell_type": "code", 
            "execution_count": 12, 
            "metadata": {}, 
            "source": "heart_train, heart_test, target_train, target_test = cross_validation.train_test_split(features_df, heart_data_df.loc[:,'diagnosed'], test_size=0.33, random_state=0)\n# split data", 
            "outputs": []
        }, 
        {
            "cell_type": "markdown", 
            "source": "    DMatrix is the data interface provided by the XGBoost library. \n    The training data and test data are converted as DMatrix objects to perform training and to make predictions. \n    The DMatrix objects can be created from various data formats, such as Numpy arrays, Pandas data frames, or a Scipy sparse array", 
            "metadata": {}
        }, 
        {
            "cell_type": "code", 
            "execution_count": 13, 
            "metadata": {}, 
            "source": "dm_train = xgb.DMatrix(heart_train, label=target_train)\ndm_test = xgb.DMatrix(heart_test)", 
            "outputs": []
        }, 
        {
            "cell_type": "code", 
            "execution_count": 14, 
            "metadata": {}, 
            "source": "param = {'objective':'multi:softmax', 'max_depth':2, 'eta':0.8, 'num_class': 2, 'eval_metric': 'auc', 'silent':1 }\n#set parameters", 
            "outputs": []
        }, 
        {
            "cell_type": "code", 
            "execution_count": 15, 
            "metadata": {}, 
            "source": "xgb_model = xgb.train(param, dm_train)\n# the model.. lo behold... ", 
            "outputs": []
        }, 
        {
            "cell_type": "code", 
            "execution_count": 16, 
            "metadata": {}, 
            "source": "y_predict = xgb_model.predict(dm_test)\nprint(y_predict)\n\n# prediction basedon the model..", 
            "outputs": [
                {
                    "output_type": "stream", 
                    "text": "[0. 0. 1. 0. 0. 1. 0. 1. 0. 0. 1. 0. 1. 1. 0. 0. 1. 0. 1. 1. 1. 1. 0. 1.\n 1. 1. 0. 0. 0. 0. 1. 0. 1. 1. 0. 1. 0. 1. 1. 0. 0. 1. 0. 0. 0. 1. 1. 0.\n 0. 0. 1. 1. 1. 0. 1. 1. 0. 1. 0. 0. 1. 0. 1. 0. 0. 0. 0. 1. 0. 0. 1. 0.\n 0. 1. 0. 0. 1. 1. 1. 1. 0. 1. 1. 0. 0. 1. 0. 0. 0. 1. 1. 1. 1. 1. 0. 0.\n 1. 0. 1.]\n", 
                    "name": "stdout"
                }
            ]
        }, 
        {
            "cell_type": "code", 
            "execution_count": 17, 
            "metadata": {}, 
            "source": "accuracy = accuracy_score(target_test, y_predict)\nprint(\"Accuracy: \" +  str(accuracy))", 
            "outputs": [
                {
                    "output_type": "stream", 
                    "text": "Accuracy: 0.8181818181818182\n", 
                    "name": "stdout"
                }
            ]
        }, 
        {
            "cell_type": "code", 
            "execution_count": 18, 
            "metadata": {}, 
            "source": "# insert obama not bad meme...", 
            "outputs": []
        }, 
        {
            "cell_type": "code", 
            "execution_count": 19, 
            "metadata": {}, 
            "source": "import matplotlib.pyplot as plt\n%matplotlib inline", 
            "outputs": []
        }, 
        {
            "cell_type": "code", 
            "execution_count": 20, 
            "metadata": {}, 
            "source": "xgb.plot_importance(xgb_model)", 
            "outputs": [
                {
                    "output_type": "execute_result", 
                    "execution_count": 20, 
                    "metadata": {}, 
                    "data": {
                        "text/plain": "<matplotlib.axes._subplots.AxesSubplot at 0x7f9cb9805fd0>"
                    }
                }, 
                {
                    "output_type": "display_data", 
                    "metadata": {}, 
                    "data": {
                        "image/png": "[encoded data removed]", 
                        "text/plain": "<matplotlib.figure.Figure at 0x7f9cb97d9a58>"
                    }
                }
            ]
        }, 
        {
            "cell_type": "code", 
            "execution_count": 21, 
            "metadata": {}, 
            "source": "# the feature importance.. in terms of affecting the outcome.", 
            "outputs": []
        }, 
        {
            "cell_type": "code", 
            "execution_count": 22, 
            "metadata": {}, 
            "source": "!pip install graphviz", 
            "outputs": [
                {
                    "output_type": "stream", 
                    "text": "Requirement already satisfied (use --upgrade to upgrade): graphviz in /gpfs/global_fs01/sym_shared/YPProdSpark/user/sa0d-218294071c3031-cf228a6161b9/.local/lib/python3.5/site-packages\r\n", 
                    "name": "stdout"
                }
            ]
        }, 
        {
            "cell_type": "code", 
            "execution_count": 23, 
            "metadata": {}, 
            "source": "xgb.plot_tree(xgb_model, num_trees=1)", 
            "outputs": [
                {
                    "output_type": "execute_result", 
                    "execution_count": 23, 
                    "metadata": {}, 
                    "data": {
                        "text/plain": "<matplotlib.axes._subplots.AxesSubplot at 0x7f9cba3230f0>"
                    }
                }, 
                {
                    "output_type": "display_data", 
                    "metadata": {}, 
                    "data": {
                        "image/png": "[encoded data removed]", 
                        "text/plain": "<matplotlib.figure.Figure at 0x7f9cb9d6cf98>"
                    }
                }
            ]
        }, 
        {
            "cell_type": "code", 
            "execution_count": 24, 
            "metadata": {}, 
            "source": "from repository.mlrepository import MetaNames\nfrom repository.mlrepository import MetaProps\nfrom repository.mlrepositoryclient import MLRepositoryClient\nfrom repository.mlrepositoryartifact import MLRepositoryArtifact\n\n# model persistance using watson ml learning repo..", 
            "outputs": []
        }, 
        {
            "cell_type": "code", 
            "execution_count": 26, 
            "metadata": {}, 
            "source": "# model persistance using watson ml learning repo..\n# The Machine Learning service is a set of REST APIs that you can call from any programming language to develop applications\n# common repo.. so dump your model there.. and host it as ain API.. thats the basic idea..\n# set it up and get credentials..\n\nwml_credentials =  {\n  \"url\": \"https://ibm-watson-ml.mybluemix.net\",\n  \"access_key\": \"/iAwsOArQjd2fO2bOcg0B/kzUNPYSP1eRR6ZIabdW9GVSMYz/VdffFaUCcMgMUSfHxGxQ3pIogjgEOjN0TGDTcL0h32gVzPkwMbmHXNpi+FQYUqQmv73SQJrb1WXWeZv\",\n  \"username\": \"818bea55-efd6-417f-baa0-db88935b7dff\",\n  \"password\": \"556e6e2c-7026-4c72-b5c2-b2dd7d55e1a9\",\n  \"instance_id\": \"c518be29-6eda-43bb-9f34-fcfc84f7f8b7\"\n}", 
            "outputs": []
        }, 
        {
            "cell_type": "code", 
            "execution_count": 27, 
            "metadata": {}, 
            "source": "ml_repository_client = MLRepositoryClient(wml_credentials['url'])\nml_repository_client.authorize(wml_credentials['username'], wml_credentials['password'])\n\n#Connect to ...", 
            "outputs": []
        }, 
        {
            "cell_type": "code", 
            "execution_count": 28, 
            "metadata": {}, 
            "source": "#create a model artefact and save it to the ML repo...\n# Check if props is mandatory\nprops1 = MetaProps({MetaNames.AUTHOR_NAME:\"YOUR_name\", MetaNames.AUTHOR_EMAIL:\"Your_email@email.com\"})\n\nmodel_artifact = MLRepositoryArtifact(xgb_model, name='XGB_Heart_Disease_Detection', meta_props=props1)\n\nsaved_model = ml_repository_client.models.save(model_artifact) # a callable handle.. to be used in this book", 
            "outputs": []
        }, 
        {
            "cell_type": "code", 
            "execution_count": 29, 
            "metadata": {}, 
            "source": "saved_model_meta = saved_model.meta.get()\npprint.pprint(saved_model_meta)", 
            "outputs": [
                {
                    "output_type": "stream", 
                    "text": "{'authorEmail': 'Your_email@email.com',\n 'authorName': 'YOUR_name',\n 'creationTime': datetime.datetime(2018, 1, 24, 5, 38, 56, 453000, tzinfo=tzutc()),\n 'lastUpdated': datetime.datetime(2018, 1, 24, 5, 38, 56, 547000, tzinfo=tzutc()),\n 'modelType': 'xgboost-model-0.6',\n 'modelVersionHref': 'https://ibm-watson-ml.mybluemix.net/v2/artifacts/models/cabb7107-5af9-4c89-a63b-b060d027bea4/versions/586dfc6e-71fa-4bbb-8f94-b14cc78386af',\n 'pipelineVersionHref': None,\n 'runtime': 'python-3.5',\n 'trainingDataRef': {},\n 'version': '586dfc6e-71fa-4bbb-8f94-b14cc78386af'}\n", 
                    "name": "stdout"
                }
            ]
        }, 
        {
            "cell_type": "code", 
            "execution_count": 30, 
            "metadata": {}, 
            "source": "# loading the XGbooster from the said repo..\nsaved_model_meta['modelVersionHref']", 
            "outputs": [
                {
                    "output_type": "execute_result", 
                    "execution_count": 30, 
                    "metadata": {}, 
                    "data": {
                        "text/plain": "'https://ibm-watson-ml.mybluemix.net/v2/artifacts/models/cabb7107-5af9-4c89-a63b-b060d027bea4/versions/586dfc6e-71fa-4bbb-8f94-b14cc78386af'"
                    }
                }
            ]
        }, 
        {
            "cell_type": "code", 
            "execution_count": 31, 
            "metadata": {}, 
            "source": "loaded_artifact = ml_repository_client.models.version_from_href(saved_model_meta['modelVersionHref'])\nloaded_xgb_model = loaded_artifact.model_instance()\nprint(\"Type of model: \" + str(type(loaded_xgb_model)))", 
            "outputs": [
                {
                    "output_type": "stream", 
                    "text": "Type of model: <class 'xgboost.core.Booster'>\n", 
                    "name": "stdout"
                }
            ]
        }, 
        {
            "cell_type": "code", 
            "execution_count": 32, 
            "metadata": {}, 
            "source": "y_lpredict = loaded_xgb_model.predict(dm_test)\nprint(y_lpredict)\n#predict using the model posted at the said repo..", 
            "outputs": [
                {
                    "output_type": "stream", 
                    "text": "[0. 0. 1. 0. 0. 1. 0. 1. 0. 0. 1. 0. 1. 1. 0. 0. 1. 0. 1. 1. 1. 1. 0. 1.\n 1. 1. 0. 0. 0. 0. 1. 0. 1. 1. 0. 1. 0. 1. 1. 0. 0. 1. 0. 0. 0. 1. 1. 0.\n 0. 0. 1. 1. 1. 0. 1. 1. 0. 1. 0. 0. 1. 0. 1. 0. 0. 0. 0. 1. 0. 0. 1. 0.\n 0. 1. 0. 0. 1. 1. 1. 1. 0. 1. 1. 0. 0. 1. 0. 0. 0. 1. 1. 1. 1. 1. 0. 0.\n 1. 0. 1.]\n", 
                    "name": "stdout"
                }
            ]
        }, 
        {
            "cell_type": "code", 
            "execution_count": 33, 
            "metadata": {}, 
            "source": "loaded_artifact = ml_repository_client.models.version_from_href(saved_model_meta['modelVersionHref'])\nloaded_xgb_regressor = loaded_artifact.model_instance(as_type=\"XGBRegressor\")\n\n#WML repo Python client provides an option to load the XGBoost model i.e Booster as a Scikit-Learn wrapper - XGBRegressor.. ", 
            "outputs": []
        }, 
        {
            "cell_type": "code", 
            "execution_count": 34, 
            "metadata": {}, 
            "source": "loaded_artifact = ml_repository_client.models.version_from_href(saved_model_meta['modelVersionHref'])\nloaded_xgb_regressor = loaded_artifact.model_instance(as_type=\"XGBRegressor\")\n# you can then use the sci kit learn's other api stuff on the said model..", 
            "outputs": []
        }, 
        {
            "cell_type": "code", 
            "execution_count": 56, 
            "metadata": {}, 
            "source": "(saved_model.guid)", 
            "outputs": [
                {
                    "evalue": "'ScikitModelArtifact' object has no attribute 'guid'", 
                    "traceback": [
                        "\u001b[1;31m\u001b[0m", 
                        "\u001b[1;31mAttributeError\u001b[0mTraceback (most recent call last)", 
                        "\u001b[1;32m<ipython-input-56-5f42155a9b49>\u001b[0m in \u001b[0;36m<module>\u001b[1;34m()\u001b[0m\n\u001b[1;32m----> 1\u001b[1;33m \u001b[1;33m(\u001b[0m\u001b[0msaved_model\u001b[0m\u001b[1;33m.\u001b[0m\u001b[0mguid\u001b[0m\u001b[1;33m)\u001b[0m\u001b[1;33m\u001b[0m\u001b[0m\n\u001b[0m", 
                        "\u001b[1;31mAttributeError\u001b[0m: 'ScikitModelArtifact' object has no attribute 'guid'"
                    ], 
                    "ename": "AttributeError", 
                    "output_type": "error"
                }
            ]
        }, 
        {
            "cell_type": "code", 
            "execution_count": null, 
            "metadata": {}, 
            "source": "", 
            "outputs": []
        }, 
        {
            "cell_type": "code", 
            "execution_count": 35, 
            "metadata": {}, 
            "source": "print(\"Type of model: \" + str(type(loaded_xgb_regressor)))", 
            "outputs": [
                {
                    "output_type": "stream", 
                    "text": "Type of model: <class 'xgboost.sklearn.XGBRegressor'>\n", 
                    "name": "stdout"
                }
            ]
        }, 
        {
            "cell_type": "code", 
            "execution_count": 36, 
            "metadata": {}, 
            "source": "y_pred_xgb_reg = loaded_xgb_regressor.predict(heart_test)\nprint(y_pred_xgb_reg)", 
            "outputs": [
                {
                    "output_type": "stream", 
                    "text": "[0. 0. 1. 0. 0. 1. 0. 1. 0. 0. 1. 0. 1. 1. 0. 0. 1. 0. 1. 1. 1. 1. 0. 1.\n 1. 1. 0. 0. 0. 0. 1. 0. 1. 1. 0. 1. 0. 1. 1. 0. 0. 1. 0. 0. 0. 1. 1. 0.\n 0. 0. 1. 1. 1. 0. 1. 1. 0. 1. 0. 0. 1. 0. 1. 0. 0. 0. 0. 1. 0. 0. 1. 0.\n 0. 1. 0. 0. 1. 1. 1. 1. 0. 1. 1. 0. 0. 1. 0. 0. 0. 1. 1. 1. 1. 1. 0. 0.\n 1. 0. 1.]\n", 
                    "name": "stdout"
                }
            ]
        }, 
        {
            "cell_type": "code", 
            "execution_count": 37, 
            "metadata": {}, 
            "source": "# same resutls.. but differet type of object/model used in the DSX book", 
            "outputs": []
        }, 
        {
            "cell_type": "markdown", 
            "source": "    The cells below lay out the steps for deploying the model on cloud.. \n    The last cell actually calls out and gets the response for a single  row of input data\n    The cells before that enable the hosting/accessing of the model built in the previous cells\n    ", 
            "metadata": {}
        }, 
        {
            "cell_type": "code", 
            "execution_count": 39, 
            "metadata": {}, 
            "source": "import urllib3, requests, json\n\nheaders = urllib3.util.make_headers(basic_auth='{}:{}'.format(wml_credentials['username'], wml_credentials['password']))\nurl = '{}/v3/identity/token'.format(wml_credentials['url'])\nresponse = requests.get(url, headers=headers)\nmltoken = json.loads(response.text).get('token')\nheader = {'Content-Type': 'application/json', 'Authorization': 'Bearer ' + mltoken}\n\n#Fetch ML access token\n", 
            "outputs": []
        }, 
        {
            "cell_type": "code", 
            "execution_count": 40, 
            "metadata": {}, 
            "source": "# getting published models URL instance details\n\nendpoint_instance = wml_credentials['url'] + \"/v3/wml_instances/\" + wml_credentials['instance_id']\nheader = {'Content-Type': 'application/json', 'Authorization': 'Bearer ' + mltoken} \n\nresponse_get_instance = requests.get(endpoint_instance, headers=header)\nprint(response_get_instance)\nprint(response_get_instance.text)", 
            "outputs": [
                {
                    "output_type": "stream", 
                    "text": "<Response [200]>\n{\"metadata\":{\"guid\":\"c518be29-6eda-43bb-9f34-fcfc84f7f8b7\",\"url\":\"https://ibm-watson-ml.mybluemix.net/v3/wml_instances/c518be29-6eda-43bb-9f34-fcfc84f7f8b7\",\"created_at\":\"2018-01-24T05:28:02.092Z\",\"modified_at\":\"2018-01-24T05:38:56.787Z\"},\"entity\":{\"source\":\"Bluemix\",\"published_models\":{\"url\":\"https://ibm-watson-ml.mybluemix.net/v3/wml_instances/c518be29-6eda-43bb-9f34-fcfc84f7f8b7/published_models\"},\"usage\":{\"expiration_date\":\"2018-02-01T00:00:00.000Z\",\"computation_time\":{\"limit\":18000,\"current\":0},\"model_count\":{\"limit\":200,\"current\":1},\"prediction_count\":{\"limit\":5000,\"current\":0},\"deployment_count\":{\"limit\":5,\"current\":0}},\"plan_id\":\"3f6acf43-ede8-413a-ac69-f8af3bb0cbfe\",\"status\":\"Active\",\"organization_guid\":\"d076470d-971e-4701-80b6-1aa4ea364331\",\"region\":\"us-south\",\"account\":{\"id\":\"500607475\",\"name\":\"rony roy's Account\",\"type\":\"TRIAL\"},\"owner\":{\"ibm_id\":\"3100009M1Q\",\"email\":\"ronyroy2@in.ibm.com\",\"user_id\":\"66bb61d1-a79d-4c09-aa47-ef3f37592661\",\"country_code\":\"IND\",\"beta_user\":true},\"deployments\":{\"url\":\"https://ibm-watson-ml.mybluemix.net/v3/wml_instances/c518be29-6eda-43bb-9f34-fcfc84f7f8b7/deployments\"},\"space_guid\":\"b6db7700-50e7-4d97-b331-cf228a6161b9\",\"plan\":\"lite\"}}\n", 
                    "name": "stdout"
                }
            ]
        }, 
        {
            "cell_type": "code", 
            "execution_count": 41, 
            "metadata": {}, 
            "source": "endpoint_published_models = json.loads(response_get_instance.text).get('entity').get('published_models').get('url')\nprint(endpoint_published_models)", 
            "outputs": [
                {
                    "output_type": "stream", 
                    "text": "https://ibm-watson-ml.mybluemix.net/v3/wml_instances/c518be29-6eda-43bb-9f34-fcfc84f7f8b7/published_models\n", 
                    "name": "stdout"
                }
            ]
        }, 
        {
            "cell_type": "code", 
            "execution_count": 42, 
            "metadata": {}, 
            "source": "header = {'Content-Type': 'application/json', 'Authorization': 'Bearer ' + mltoken}\n\nresponse_get = requests.get(endpoint_published_models, headers=header)\nprint(response_get)\nprint(response_get.text)", 
            "outputs": [
                {
                    "output_type": "stream", 
                    "text": "<Response [200]>\n{\"count\":1,\"resources\":[{\"metadata\":{\"guid\":\"cabb7107-5af9-4c89-a63b-b060d027bea4\",\"url\":\"https://ibm-watson-ml.mybluemix.net/v3/wml_instances/c518be29-6eda-43bb-9f34-fcfc84f7f8b7/published_models/cabb7107-5af9-4c89-a63b-b060d027bea4\",\"created_at\":\"2018-01-24T05:38:56.453Z\",\"modified_at\":\"2018-01-24T05:38:56.547Z\"},\"entity\":{\"runtime_environment\":\"python-3.5\",\"learning_configuration_url\":\"https://ibm-watson-ml.mybluemix.net/v3/wml_instances/c518be29-6eda-43bb-9f34-fcfc84f7f8b7/published_models/cabb7107-5af9-4c89-a63b-b060d027bea4/learning_configuration\",\"author\":{\"name\":\"YOUR_name\",\"email\":\"Your_email@email.com\"},\"name\":\"XGB_Heart_Disease_Detection\",\"learning_iterations_url\":\"https://ibm-watson-ml.mybluemix.net/v3/wml_instances/c518be29-6eda-43bb-9f34-fcfc84f7f8b7/published_models/cabb7107-5af9-4c89-a63b-b060d027bea4/learning_iterations\",\"feedback_url\":\"https://ibm-watson-ml.mybluemix.net/v3/wml_instances/c518be29-6eda-43bb-9f34-fcfc84f7f8b7/published_models/cabb7107-5af9-4c89-a63b-b060d027bea4/feedback\",\"latest_version\":{\"url\":\"https://ibm-watson-ml.mybluemix.net/v3/ml_assets/models/cabb7107-5af9-4c89-a63b-b060d027bea4/versions/586dfc6e-71fa-4bbb-8f94-b14cc78386af\",\"guid\":\"586dfc6e-71fa-4bbb-8f94-b14cc78386af\",\"created_at\":\"2018-01-24T05:38:56.547Z\"},\"model_type\":\"xgboost-0.6\",\"deployments\":{\"count\":0,\"url\":\"https://ibm-watson-ml.mybluemix.net/v3/wml_instances/c518be29-6eda-43bb-9f34-fcfc84f7f8b7/published_models/cabb7107-5af9-4c89-a63b-b060d027bea4/deployments\"},\"evaluation_metrics_url\":\"https://ibm-watson-ml.mybluemix.net/v3/wml_instances/c518be29-6eda-43bb-9f34-fcfc84f7f8b7/published_models/cabb7107-5af9-4c89-a63b-b060d027bea4/evaluation_metrics\"}}]}\n", 
                    "name": "stdout"
                }
            ]
        }, 
        {
            "cell_type": "code", 
            "execution_count": 57, 
            "metadata": {}, 
            "source": "[endpoint_deployments] = [x.get('entity').get('deployments').get('url') for x in json.loads(response_get.text).get('resources') if x.get('metadata').get('guid') == saved_model.uid]\nprint(saved_model.uid)\nprint(endpoint_deployments)", 
            "outputs": [
                {
                    "output_type": "stream", 
                    "text": "cabb7107-5af9-4c89-a63b-b060d027bea4\nhttps://ibm-watson-ml.mybluemix.net/v3/wml_instances/c518be29-6eda-43bb-9f34-fcfc84f7f8b7/published_models/cabb7107-5af9-4c89-a63b-b060d027bea4/deployments\n", 
                    "name": "stdout"
                }
            ]
        }, 
        {
            "cell_type": "code", 
            "execution_count": null, 
            "metadata": {}, 
            "source": "", 
            "outputs": []
        }, 
        {
            "cell_type": "code", 
            "execution_count": 44, 
            "metadata": {}, 
            "source": "# can now create online deployment for the published model\npayload_online = {\"name\": \"xgb_heart_disease_v1\", \"description\": \"xgb_heart_disease\", \"type\": \"online\"}\nresponse_online = requests.post(endpoint_deployments, json=payload_online, headers=header)\n\nprint(response_online.text)", 
            "outputs": [
                {
                    "output_type": "stream", 
                    "text": "{\"metadata\":{\"guid\":\"601ea1d3-a23e-4b8f-a1a6-05eeb38b1182\",\"url\":\"https://ibm-watson-ml.mybluemix.net/v3/wml_instances/c518be29-6eda-43bb-9f34-fcfc84f7f8b7/published_models/cabb7107-5af9-4c89-a63b-b060d027bea4/deployments/601ea1d3-a23e-4b8f-a1a6-05eeb38b1182\",\"created_at\":\"2018-01-24T05:47:56.455Z\",\"modified_at\":\"2018-01-24T05:47:56.928Z\"},\"entity\":{\"runtime_environment\":\"python-3.5\",\"name\":\"xgb_heart_disease_v1\",\"scoring_url\":\"https://ibm-watson-ml.mybluemix.net/v3/wml_instances/c518be29-6eda-43bb-9f34-fcfc84f7f8b7/published_models/cabb7107-5af9-4c89-a63b-b060d027bea4/deployments/601ea1d3-a23e-4b8f-a1a6-05eeb38b1182/online\",\"description\":\"xgb_heart_disease\",\"published_model\":{\"author\":{\"name\":\"YOUR_name\",\"email\":\"Your_email@email.com\"},\"name\":\"XGB_Heart_Disease_Detection\",\"url\":\"https://ibm-watson-ml.mybluemix.net/v3/wml_instances/c518be29-6eda-43bb-9f34-fcfc84f7f8b7/published_models/cabb7107-5af9-4c89-a63b-b060d027bea4\",\"guid\":\"cabb7107-5af9-4c89-a63b-b060d027bea4\",\"created_at\":\"2018-01-24T05:47:56.415Z\"},\"model_type\":\"xgboost-0.6\",\"status\":\"INITIALIZING\",\"type\":\"online\",\"deployed_version\":{\"url\":\"https://ibm-watson-ml.mybluemix.net/v3/ml_assets/models/cabb7107-5af9-4c89-a63b-b060d027bea4/versions/586dfc6e-71fa-4bbb-8f94-b14cc78386af\",\"guid\":\"586dfc6e-71fa-4bbb-8f94-b14cc78386af\"}}}\n", 
                    "name": "stdout"
                }
            ]
        }, 
        {
            "cell_type": "code", 
            "execution_count": 45, 
            "metadata": {}, 
            "source": "scoring_url = json.loads(response_online.text).get('entity').get('scoring_url')\nprint(scoring_url)", 
            "outputs": [
                {
                    "output_type": "stream", 
                    "text": "https://ibm-watson-ml.mybluemix.net/v3/wml_instances/c518be29-6eda-43bb-9f34-fcfc84f7f8b7/published_models/cabb7107-5af9-4c89-a63b-b060d027bea4/deployments/601ea1d3-a23e-4b8f-a1a6-05eeb38b1182/online\n", 
                    "name": "stdout"
                }
            ]
        }, 
        {
            "cell_type": "code", 
            "execution_count": 46, 
            "metadata": {}, 
            "source": "payload_scoring = {\n   \"values\": [[64.0, 1.0, 4.0, 328.0, 263.0, 0.0, 0.0, 105.0, 1.0, 0.2, 2.0, 1.0, 7.0]]\n}\n\nresponse_scoring = requests.post(scoring_url, json=payload_scoring, headers=header)\npprint.pprint(response_scoring.text)", 
            "outputs": [
                {
                    "output_type": "stream", 
                    "text": "'{\"fields\":[\"prediction\",\"probability\"],\"values\":[[1.0,[-1.467953085899353,2.4679532051086426]]]}'\n", 
                    "name": "stdout"
                }
            ]
        }, 
        {
            "cell_type": "code", 
            "execution_count": null, 
            "metadata": {}, 
            "source": "", 
            "outputs": []
        }, 
        {
            "cell_type": "code", 
            "execution_count": null, 
            "metadata": {}, 
            "source": "", 
            "outputs": []
        }
    ], 
    "nbformat": 4, 
    "nbformat_minor": 1, 
    "metadata": {
        "kernelspec": {
            "language": "python", 
            "display_name": "Python 3.5 (Experimental) with Spark 2.1", 
            "name": "python3-spark21"
        }, 
        "language_info": {
            "pygments_lexer": "ipython3", 
            "mimetype": "text/x-python", 
            "nbconvert_exporter": "python", 
            "name": "python", 
            "file_extension": ".py", 
            "version": "3.5.2", 
            "codemirror_mode": {
                "version": 3, 
                "name": "ipython"
            }
        }
    }
}