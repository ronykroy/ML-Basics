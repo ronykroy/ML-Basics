{
    "nbformat": 4, 
    "metadata": {
        "language_info": {
            "version": "3.5.2", 
            "nbconvert_exporter": "python", 
            "name": "python", 
            "pygments_lexer": "ipython3", 
            "mimetype": "text/x-python", 
            "codemirror_mode": {
                "version": 3, 
                "name": "ipython"
            }, 
            "file_extension": ".py"
        }, 
        "kernelspec": {
            "language": "python", 
            "name": "python3-spark21", 
            "display_name": "Python 3.5 (Experimental) with Spark 2.1"
        }
    }, 
    "cells": [
        {
            "execution_count": 1, 
            "metadata": {}, 
            "source": "# Load CSV using Pandas from URL\nfrom pandas import read_csv\nurl = 'https://goo.gl/vhm1eU'\nnames = ['preg', 'plas', 'pres', 'skin', 'test', 'mass', 'pedi', 'age', 'class']\ndataframe = read_csv(url, names=names)\nprint(dataframe.shape)", 
            "outputs": [
                {
                    "name": "stdout", 
                    "output_type": "stream", 
                    "text": "(768, 9)\n"
                }
            ], 
            "cell_type": "code"
        }, 
        {
            "execution_count": 2, 
            "metadata": {}, 
            "source": "# Feature Extraction with PCA\nfrom pandas import read_csv\nfrom sklearn.decomposition import PCA\n# load data\n\narray = dataframe.values\nX = array[:,0:8]\nY = array[:,8]\n# feature extraction\npca = PCA(n_components=3)\n#fit = pca.fit(X)\n#fit causes kernel to crash\n\n# summarize components\n#print(\"Explained Variance: %s\") % fit.explained_variance_ratio_\n#print(fit.components_)", 
            "outputs": [], 
            "cell_type": "code"
        }, 
        {
            "execution_count": 4, 
            "metadata": {}, 
            "source": "# Feature Importance with Extra Trees Classifier\nfrom pandas import read_csv\nfrom sklearn.ensemble import ExtraTreesClassifier\n# load data\n\narray = dataframe.values\nX = array[:,0:8]\nY = array[:,8]\n# feature extraction\nmodel = ExtraTreesClassifier()\n#model.fit(X, Y)\n#print(model.feature_importances_)", 
            "outputs": [], 
            "cell_type": "code"
        }, 
        {
            "source": "### Evaluating performance of machine learning algorithms...\n    1: compare how accurate it could predict against the existing data..\n    2) resampling methods", 
            "metadata": {}, 
            "cell_type": "markdown"
        }, 
        {
            "execution_count": 6, 
            "metadata": {}, 
            "source": "import sklearn\nimport numpy\nimport pandas\nimport scipy\nimport matplotlib", 
            "outputs": [], 
            "cell_type": "code"
        }, 
        {
            "execution_count": null, 
            "metadata": {}, 
            "source": "\n# split data to training and test\nfrom sklearn.cross_validation  import train_test_split\nfrom sklearn.linear_model import LogisticRegression\n\nX = array[:,0:8]\nY = array[:,8]\ntest_size = 0.33\nseed = 7\nX_train, X_test, Y_train, Y_test = train_test_split(X, Y, test_size=test_size,\nrandom_state=seed)\nmodel = LogisticRegression()\n#model.fit(X_train, Y_train)\nresult = model.score(X_test, Y_test)\nprint(\"Accuracy: %.3f%%\") % (result*100.0)", 
            "outputs": [], 
            "cell_type": "code"
        }, 
        {
            "execution_count": null, 
            "metadata": {}, 
            "source": "", 
            "outputs": [], 
            "cell_type": "code"
        }, 
        {
            "execution_count": null, 
            "metadata": {}, 
            "source": "", 
            "outputs": [], 
            "cell_type": "code"
        }
    ], 
    "nbformat_minor": 1
}