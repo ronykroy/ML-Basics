{
    "cells": [
        {
            "cell_type": "code", 
            "execution_count": 1, 
            "metadata": {}, 
            "source": "!mkdir sieve\n# make dir sieve", 
            "outputs": []
        }, 
        {
            "cell_type": "code", 
            "execution_count": 4, 
            "metadata": {}, 
            "source": "!cd sieve\n# go to that dir", 
            "outputs": []
        }, 
        {
            "cell_type": "code", 
            "execution_count": 36, 
            "metadata": {}, 
            "source": "def Eratosthenes(upper_bound):\n    # Return a list of the primes BELOW the upper_bound\n    # first, create a list with all primes set to `True`\n    iteration = 1\n    prime = [True] * upper_bound \n    # an array of length upper bound\n    for p in range(3, upper_bound, 2):\n        # the range is skipped by intervals of 2// faster than skipping in units of 1.. since 2 and its multiples are ruled out anyway\n        if p > (upper_bound**.5):\n            # implementation explained below\n            break\n        if prime[p]==True: \n            # encountered a index number that is still true [as one is counting from 3 upwards] i.e. prime\n            # remember that all multiples of p are not prime, whether or not p is prime [but the way this is written... the 'whether or not p is prime' case is not encountered]\n            for i in range(p * p, upper_bound, 2 * p): # we skip in terms of 2*p because.. rule out the multiples of 2\n                prime[i] = False\n                iteration = iteration + 1\n    #iteration = 0\n    # don't forget about the number \"2\"\n    return [2] + [p for p in range(3, upper_bound, 2) if prime[p]]\n    \n# n =a*b if n is not prime.. then atleast one of a,b must be less than the square root of n [food for thought: use proof by contradiciton for the statement]", 
            "outputs": []
        }, 
        {
            "cell_type": "code", 
            "execution_count": 37, 
            "metadata": {}, 
            "source": "%%writefile prime_sieve.py\ndef Eratosthenes(upper_bound):\n    # Return a list of the primes below the upper_bound\n    # first, create a list with all values set to true\n    prime = [True] * upper_bound\n    for p in range(3, upper_bound, 2):\n        if p > (upper_bound**.5):\n            break\n        if prime[p]:\n           \n            for i in range(p * p, upper_bound, 2 * p):\n                prime[i] = False\n    \n    return [2] + [p for p in range(3, upper_bound, 2) if prime[p]]\n\n# same as the above.. written to file..", 
            "outputs": [
                {
                    "output_type": "stream", 
                    "text": "Writing prime_sieve.py\n", 
                    "name": "stdout"
                }
            ]
        }, 
        {
            "cell_type": "code", 
            "execution_count": null, 
            "metadata": {}, 
            "source": "# check out https://github.com/IBM-Cloud/get-started-python\n# sometime... for more on CLI CF.. etc..\n\n# the aim to to develop the app entirely through DSX notebooks..\n", 
            "outputs": []
        }, 
        {
            "cell_type": "code", 
            "execution_count": 38, 
            "metadata": {
                "scrolled": true
            }, 
            "source": "%%writefile my_flask_app.py\nfrom flask import Flask, Response, jsonify\nfrom flask_restplus import Api, Resource, fields, reqparse\nfrom flask_cors import CORS, cross_origin\nimport os\n\n# the app itsel\napp = Flask(__name__)\nCORS(app)\napi = Api(app, version='1.0', title='APIs for Python Functions', validate=False)\n\n# create namespace to organize the api and docs\nns = api.namespace('primality', 'Returns a list of all primes below a given upper bound')\n\n# load the algorithm above\n# from the said file.. import the said class as algo..\nfrom prime_sieve import Eratosthenes as algo\n\n# model the input data\nmodel_input = api.model('Enter the upper bound:', {\n    \"UPPER_BOUND\": fields.Integer(maximum=10e16)})\n\n# the input data type here is Integer. You can change this to whatever works for your app.\n\n# On Bluemix, get the port number from the environment variable PORT\n# When running this app on the local machine, default the port to 8080\n\nport = int(os.getenv('PORT', 8080))\n\n\n# The ENDPOINT\n@ns.route('/sieve') # the endpoint\nclass SIEVE(Resource):\n    @api.response(200, \"Success\", model_input) # return a formatted response\n    @api.expect(model_input) # expcect the required the input data\n    def post(self): # prefer POST\n        parser = reqparse.RequestParser() # parse the args\n        parser.add_argument('UPPER_BOUND', type=int) # get the data\n        args = parser.parse_args()\n        inp = int(args[\"UPPER_BOUND\"]) # our input data\n        result = algo(inp) # apply algo\n        return jsonify({\"primes\": result})\n    \n        # that sure is a lot of steps :D\n# run      \nif __name__ == '__main__':\n    app.run(host='0.0.0.0', port=port, debug=True)", 
            "outputs": [
                {
                    "output_type": "stream", 
                    "text": "Writing my_flask_app.py\n", 
                    "name": "stdout"
                }
            ]
        }, 
        {
            "cell_type": "markdown", 
            "source": "### Supporting documents ...  lets see", 
            "metadata": {}
        }, 
        {
            "cell_type": "markdown", 
            "source": "    include some other files in order for our api to behave properly when we try to deploy the app to Bluemix. These files are:\n\n    manifest.yml, this includes basic information about your app, such as the name and memory\n    setup.py\n    README.md\n    requirements.txt\n    Procfile", 
            "metadata": {}
        }, 
        {
            "cell_type": "code", 
            "execution_count": 39, 
            "metadata": {}, 
            "source": "%%writefile manifest.yml\n---\napplications:\n - name: PRIMALITY_UNIQUE # name your app whatever you'd like\n   random-route: true\n   memory: 256M # can adjust this based on your service ", 
            "outputs": [
                {
                    "output_type": "stream", 
                    "text": "Writing manifest.yml\n", 
                    "name": "stdout"
                }
            ]
        }, 
        {
            "cell_type": "code", 
            "execution_count": 40, 
            "metadata": {}, 
            "source": "%%writefile Procfile\nweb: python my_flask_app.py", 
            "outputs": [
                {
                    "output_type": "stream", 
                    "text": "Writing Procfile\n", 
                    "name": "stdout"
                }
            ]
        }, 
        {
            "cell_type": "code", 
            "execution_count": 41, 
            "metadata": {}, 
            "source": "%%writefile README.md\n\"Getting Started with Python Algos on Bluemix\"", 
            "outputs": [
                {
                    "output_type": "stream", 
                    "text": "Overwriting README.md\n", 
                    "name": "stdout"
                }
            ]
        }, 
        {
            "cell_type": "code", 
            "execution_count": 42, 
            "metadata": {}, 
            "source": "%%writefile requirements.txt\nFlask==0.11.1\ncloudant==2.4.0\nflasgger==0.6.4\nFlask-Cors==3.0.2\nFlask-RESTful==0.3.6\nflask-restplus==0.9.2\ngevent==1.2.1", 
            "outputs": [
                {
                    "output_type": "stream", 
                    "text": "Writing requirements.txt\n", 
                    "name": "stdout"
                }
            ]
        }, 
        {
            "cell_type": "code", 
            "execution_count": 43, 
            "metadata": {}, 
            "source": "%%writefile setup.py\n\"\"\"\nHello World app for deploying Python functions as APIs on Bluemix\n\"\"\"\n\n# Always prefer setuptools over distutils\nfrom setuptools import setup, find_packages\n# To use a consistent encoding\nfrom codecs import open\nfrom os import path\n\nhere = path.abspath(path.dirname(__file__))\n\n# Get the long description from the README file\nwith open(path.join(here, 'README.md'), encoding='utf-8') as f:\n    long_description = f.read()\n\nsetup(\n    name='primality_test',\n    version='1.0.0',\n    description='Running Python apps on Bluemix',\n    long_description=long_description,\n    url='https://github.com/IBM-Bluemix/python-hello-world-flask',\n    license='Apache-2.0'\n)", 
            "outputs": [
                {
                    "output_type": "stream", 
                    "text": "Writing setup.py\n", 
                    "name": "stdout"
                }
            ]
        }, 
        {
            "cell_type": "code", 
            "execution_count": 44, 
            "metadata": {}, 
            "source": "%%writefile LICENSE\n\"\"\"Apache License\n                           Version 2.0, January 2004\n                        http://www.apache.org/licenses/\n\n   TERMS AND CONDITIONS FOR USE, REPRODUCTION, AND DISTRIBUTION ...\"\"\"", 
            "outputs": [
                {
                    "output_type": "stream", 
                    "text": "Writing LICENSE\n", 
                    "name": "stdout"
                }
            ]
        }, 
        {
            "cell_type": "markdown", 
            "source": "### Writing to bluemix...", 
            "metadata": {}
        }, 
        {
            "cell_type": "code", 
            "execution_count": null, 
            "metadata": {}, 
            "source": "", 
            "outputs": []
        }, 
        {
            "cell_type": "code", 
            "execution_count": null, 
            "metadata": {}, 
            "source": "", 
            "outputs": []
        }, 
        {
            "cell_type": "code", 
            "execution_count": null, 
            "metadata": {}, 
            "source": "", 
            "outputs": []
        }, 
        {
            "cell_type": "code", 
            "execution_count": null, 
            "metadata": {}, 
            "source": "", 
            "outputs": []
        }
    ], 
    "nbformat": 4, 
    "nbformat_minor": 1, 
    "metadata": {
        "kernelspec": {
            "language": "python", 
            "display_name": "Python 3.5 (Experimental) with Spark 2.1", 
            "name": "python3-spark21"
        }, 
        "language_info": {
            "pygments_lexer": "ipython3", 
            "mimetype": "text/x-python", 
            "nbconvert_exporter": "python", 
            "name": "python", 
            "file_extension": ".py", 
            "version": "3.5.2", 
            "codemirror_mode": {
                "version": 3, 
                "name": "ipython"
            }
        }
    }
}