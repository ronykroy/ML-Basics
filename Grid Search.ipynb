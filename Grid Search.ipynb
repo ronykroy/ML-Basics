{
    "metadata": {
        "language_info": {
            "codemirror_mode": {
                "name": "ipython", 
                "version": 3
            }, 
            "pygments_lexer": "ipython3", 
            "file_extension": ".py", 
            "name": "python", 
            "version": "3.5.2", 
            "mimetype": "text/x-python", 
            "nbconvert_exporter": "python"
        }, 
        "kernelspec": {
            "language": "python", 
            "display_name": "Python 3.5 (Experimental) with Spark 2.1", 
            "name": "python3-spark21"
        }
    }, 
    "nbformat": 4, 
    "cells": [
        {
            "metadata": {}, 
            "execution_count": 3, 
            "cell_type": "code", 
            "source": "from sklearn.datasets import load_iris\nfrom sklearn.neighbors import KNeighborsClassifier\nfrom sklearn.cross_validation import cross_val_score\nimport matplotlib.pyplot as plt\n%matplotlib inline\n\n\n# read in the iris data\niris = load_iris()\n\n# create X (features) and y (response)\nX = iris.data\ny = iris.target\n\n\n# 10-fold cross-validation with K=5 for KNN (the n_neighbors parameter)\nknn = KNeighborsClassifier(n_neighbors=5)\nscores = cross_val_score(knn, X, y, cv=10, scoring='accuracy')\nprint(scores)\n\n# use average accuracy as an estimate of out-of-sample accuracy\nprint(scores.mean())", 
            "outputs": [
                {
                    "name": "stdout", 
                    "output_type": "stream", 
                    "text": "[ 1.          0.93333333  1.          1.          0.86666667  0.93333333\n  0.93333333  1.          1.          1.        ]\n0.966666666667\n"
                }
            ]
        }, 
        {
            "metadata": {}, 
            "execution_count": 4, 
            "cell_type": "code", 
            "source": "# search for an optimal value of K for KNN\nk_range = list(range(1, 31))\nk_scores = []\nfor k in k_range:\n    knn = KNeighborsClassifier(n_neighbors=k)\n    scores = cross_val_score(knn, X, y, cv=10, scoring='accuracy')\n    k_scores.append(scores.mean())\nprint(k_scores)", 
            "outputs": [
                {
                    "name": "stdout", 
                    "output_type": "stream", 
                    "text": "[0.95999999999999996, 0.95333333333333337, 0.96666666666666656, 0.96666666666666656, 0.96666666666666679, 0.96666666666666679, 0.96666666666666679, 0.96666666666666679, 0.97333333333333338, 0.96666666666666679, 0.96666666666666679, 0.97333333333333338, 0.98000000000000009, 0.97333333333333338, 0.97333333333333338, 0.97333333333333338, 0.97333333333333338, 0.98000000000000009, 0.97333333333333338, 0.98000000000000009, 0.96666666666666656, 0.96666666666666656, 0.97333333333333338, 0.95999999999999996, 0.96666666666666656, 0.95999999999999996, 0.96666666666666656, 0.95333333333333337, 0.95333333333333337, 0.95333333333333337]\n"
                }
            ]
        }, 
        {
            "metadata": {}, 
            "execution_count": 5, 
            "cell_type": "code", 
            "source": "# plot the value of K for KNN (x-axis) versus the cross-validated accuracy (y-axis)\nplt.plot(k_range, k_scores)\nplt.xlabel('Value of K for KNN')\nplt.ylabel('Cross-Validated Accuracy')", 
            "outputs": [
                {
                    "metadata": {}, 
                    "data": {
                        "text/plain": "<matplotlib.text.Text at 0x7fbb1cec3710>"
                    }, 
                    "execution_count": 5, 
                    "output_type": "execute_result"
                }, 
                {
                    "metadata": {}, 
                    "data": {
                        "text/plain": "<matplotlib.figure.Figure at 0x7fbb1c061160>", 
                        "image/png": "[encoded data removed]"
                    }, 
                    "output_type": "display_data"
                }
            ]
        }, 
        {
            "metadata": {
                "collapsed": true
            }, 
            "execution_count": 6, 
            "cell_type": "code", 
            "source": "from sklearn.grid_search import GridSearchCV", 
            "outputs": []
        }, 
        {
            "metadata": {}, 
            "execution_count": 7, 
            "cell_type": "code", 
            "source": "# define the parameter values that should be searched\nk_range = list(range(1, 31))\nprint(k_range)", 
            "outputs": [
                {
                    "name": "stdout", 
                    "output_type": "stream", 
                    "text": "[1, 2, 3, 4, 5, 6, 7, 8, 9, 10, 11, 12, 13, 14, 15, 16, 17, 18, 19, 20, 21, 22, 23, 24, 25, 26, 27, 28, 29, 30]\n"
                }
            ]
        }, 
        {
            "metadata": {}, 
            "execution_count": 8, 
            "cell_type": "code", 
            "source": "# create a parameter grid: map the parameter names to the values that should be searched\nparam_grid = dict(n_neighbors=k_range)\nprint(param_grid)", 
            "outputs": [
                {
                    "name": "stdout", 
                    "output_type": "stream", 
                    "text": "{'n_neighbors': [1, 2, 3, 4, 5, 6, 7, 8, 9, 10, 11, 12, 13, 14, 15, 16, 17, 18, 19, 20, 21, 22, 23, 24, 25, 26, 27, 28, 29, 30]}\n"
                }
            ]
        }, 
        {
            "metadata": {
                "collapsed": true
            }, 
            "execution_count": 9, 
            "cell_type": "code", 
            "source": "# instantiate the grid\ngrid = GridSearchCV(knn, param_grid, cv=10, scoring='accuracy')", 
            "outputs": []
        }, 
        {
            "metadata": {}, 
            "execution_count": 10, 
            "cell_type": "code", 
            "source": "# fit the grid with data\ngrid.fit(X, y)", 
            "outputs": [
                {
                    "metadata": {}, 
                    "data": {
                        "text/plain": "GridSearchCV(cv=10, error_score='raise',\n       estimator=KNeighborsClassifier(algorithm='auto', leaf_size=30, metric='minkowski',\n           metric_params=None, n_jobs=1, n_neighbors=30, p=2,\n           weights='uniform'),\n       fit_params={}, iid=True, n_jobs=1,\n       param_grid={'n_neighbors': [1, 2, 3, 4, 5, 6, 7, 8, 9, 10, 11, 12, 13, 14, 15, 16, 17, 18, 19, 20, 21, 22, 23, 24, 25, 26, 27, 28, 29, 30]},\n       pre_dispatch='2*n_jobs', refit=True, scoring='accuracy', verbose=0)"
                    }, 
                    "execution_count": 10, 
                    "output_type": "execute_result"
                }
            ]
        }, 
        {
            "metadata": {}, 
            "execution_count": 11, 
            "cell_type": "code", 
            "source": "grid.grid_scores_", 
            "outputs": [
                {
                    "metadata": {}, 
                    "data": {
                        "text/plain": "[mean: 0.96000, std: 0.05333, params: {'n_neighbors': 1},\n mean: 0.95333, std: 0.05207, params: {'n_neighbors': 2},\n mean: 0.96667, std: 0.04472, params: {'n_neighbors': 3},\n mean: 0.96667, std: 0.04472, params: {'n_neighbors': 4},\n mean: 0.96667, std: 0.04472, params: {'n_neighbors': 5},\n mean: 0.96667, std: 0.04472, params: {'n_neighbors': 6},\n mean: 0.96667, std: 0.04472, params: {'n_neighbors': 7},\n mean: 0.96667, std: 0.04472, params: {'n_neighbors': 8},\n mean: 0.97333, std: 0.03266, params: {'n_neighbors': 9},\n mean: 0.96667, std: 0.04472, params: {'n_neighbors': 10},\n mean: 0.96667, std: 0.04472, params: {'n_neighbors': 11},\n mean: 0.97333, std: 0.03266, params: {'n_neighbors': 12},\n mean: 0.98000, std: 0.03055, params: {'n_neighbors': 13},\n mean: 0.97333, std: 0.04422, params: {'n_neighbors': 14},\n mean: 0.97333, std: 0.03266, params: {'n_neighbors': 15},\n mean: 0.97333, std: 0.03266, params: {'n_neighbors': 16},\n mean: 0.97333, std: 0.03266, params: {'n_neighbors': 17},\n mean: 0.98000, std: 0.03055, params: {'n_neighbors': 18},\n mean: 0.97333, std: 0.03266, params: {'n_neighbors': 19},\n mean: 0.98000, std: 0.03055, params: {'n_neighbors': 20},\n mean: 0.96667, std: 0.03333, params: {'n_neighbors': 21},\n mean: 0.96667, std: 0.03333, params: {'n_neighbors': 22},\n mean: 0.97333, std: 0.03266, params: {'n_neighbors': 23},\n mean: 0.96000, std: 0.04422, params: {'n_neighbors': 24},\n mean: 0.96667, std: 0.03333, params: {'n_neighbors': 25},\n mean: 0.96000, std: 0.04422, params: {'n_neighbors': 26},\n mean: 0.96667, std: 0.04472, params: {'n_neighbors': 27},\n mean: 0.95333, std: 0.04269, params: {'n_neighbors': 28},\n mean: 0.95333, std: 0.04269, params: {'n_neighbors': 29},\n mean: 0.95333, std: 0.04269, params: {'n_neighbors': 30}]"
                    }, 
                    "execution_count": 11, 
                    "output_type": "execute_result"
                }
            ]
        }, 
        {
            "metadata": {}, 
            "execution_count": 12, 
            "cell_type": "code", 
            "source": "print(grid.best_estimator_)", 
            "outputs": [
                {
                    "name": "stdout", 
                    "output_type": "stream", 
                    "text": "KNeighborsClassifier(algorithm='auto', leaf_size=30, metric='minkowski',\n           metric_params=None, n_jobs=1, n_neighbors=13, p=2,\n           weights='uniform')\n"
                }
            ]
        }, 
        {
            "metadata": {}, 
            "execution_count": 13, 
            "cell_type": "code", 
            "source": "print(grid.best_params_)", 
            "outputs": [
                {
                    "name": "stdout", 
                    "output_type": "stream", 
                    "text": "{'n_neighbors': 13}\n"
                }
            ]
        }, 
        {
            "metadata": {}, 
            "execution_count": 14, 
            "cell_type": "code", 
            "source": "print(grid.best_score_)", 
            "outputs": [
                {
                    "name": "stdout", 
                    "output_type": "stream", 
                    "text": "0.98\n"
                }
            ]
        }, 
        {
            "metadata": {
                "collapsed": true
            }, 
            "cell_type": "markdown", 
            "source": "### the above example.. \n#### Searched the K / n neighbours paramater .. the following is a n example of looking to optimize more than 1 parameter in one go..."
        }, 
        {
            "metadata": {}, 
            "execution_count": 15, 
            "cell_type": "code", 
            "source": "# define the parameter values that should be searched\nk_range = list(range(1, 31))\nweight_options = ['uniform', 'distance']\n# create a parameter grid: map the parameter names to the values that should be searched\nparam_grid = dict(n_neighbors=k_range, weights=weight_options)\nprint(param_grid)", 
            "outputs": [
                {
                    "name": "stdout", 
                    "output_type": "stream", 
                    "text": "{'weights': ['uniform', 'distance'], 'n_neighbors': [1, 2, 3, 4, 5, 6, 7, 8, 9, 10, 11, 12, 13, 14, 15, 16, 17, 18, 19, 20, 21, 22, 23, 24, 25, 26, 27, 28, 29, 30]}\n"
                }
            ]
        }, 
        {
            "metadata": {}, 
            "execution_count": 16, 
            "cell_type": "code", 
            "source": "# instantiate and fit the grid\ngrid = GridSearchCV(knn, param_grid, cv=10, scoring='accuracy')\ngrid.fit(X, y)", 
            "outputs": [
                {
                    "metadata": {}, 
                    "data": {
                        "text/plain": "GridSearchCV(cv=10, error_score='raise',\n       estimator=KNeighborsClassifier(algorithm='auto', leaf_size=30, metric='minkowski',\n           metric_params=None, n_jobs=1, n_neighbors=30, p=2,\n           weights='uniform'),\n       fit_params={}, iid=True, n_jobs=1,\n       param_grid={'weights': ['uniform', 'distance'], 'n_neighbors': [1, 2, 3, 4, 5, 6, 7, 8, 9, 10, 11, 12, 13, 14, 15, 16, 17, 18, 19, 20, 21, 22, 23, 24, 25, 26, 27, 28, 29, 30]},\n       pre_dispatch='2*n_jobs', refit=True, scoring='accuracy', verbose=0)"
                    }, 
                    "execution_count": 16, 
                    "output_type": "execute_result"
                }
            ]
        }, 
        {
            "metadata": {}, 
            "execution_count": 17, 
            "cell_type": "code", 
            "source": "# view the complete results\ngrid.grid_scores_", 
            "outputs": [
                {
                    "metadata": {}, 
                    "data": {
                        "text/plain": "[mean: 0.96000, std: 0.05333, params: {'weights': 'uniform', 'n_neighbors': 1},\n mean: 0.96000, std: 0.05333, params: {'weights': 'distance', 'n_neighbors': 1},\n mean: 0.95333, std: 0.05207, params: {'weights': 'uniform', 'n_neighbors': 2},\n mean: 0.96000, std: 0.05333, params: {'weights': 'distance', 'n_neighbors': 2},\n mean: 0.96667, std: 0.04472, params: {'weights': 'uniform', 'n_neighbors': 3},\n mean: 0.96667, std: 0.04472, params: {'weights': 'distance', 'n_neighbors': 3},\n mean: 0.96667, std: 0.04472, params: {'weights': 'uniform', 'n_neighbors': 4},\n mean: 0.96667, std: 0.04472, params: {'weights': 'distance', 'n_neighbors': 4},\n mean: 0.96667, std: 0.04472, params: {'weights': 'uniform', 'n_neighbors': 5},\n mean: 0.96667, std: 0.04472, params: {'weights': 'distance', 'n_neighbors': 5},\n mean: 0.96667, std: 0.04472, params: {'weights': 'uniform', 'n_neighbors': 6},\n mean: 0.96667, std: 0.04472, params: {'weights': 'distance', 'n_neighbors': 6},\n mean: 0.96667, std: 0.04472, params: {'weights': 'uniform', 'n_neighbors': 7},\n mean: 0.96667, std: 0.04472, params: {'weights': 'distance', 'n_neighbors': 7},\n mean: 0.96667, std: 0.04472, params: {'weights': 'uniform', 'n_neighbors': 8},\n mean: 0.96667, std: 0.04472, params: {'weights': 'distance', 'n_neighbors': 8},\n mean: 0.97333, std: 0.03266, params: {'weights': 'uniform', 'n_neighbors': 9},\n mean: 0.97333, std: 0.03266, params: {'weights': 'distance', 'n_neighbors': 9},\n mean: 0.96667, std: 0.04472, params: {'weights': 'uniform', 'n_neighbors': 10},\n mean: 0.97333, std: 0.03266, params: {'weights': 'distance', 'n_neighbors': 10},\n mean: 0.96667, std: 0.04472, params: {'weights': 'uniform', 'n_neighbors': 11},\n mean: 0.97333, std: 0.03266, params: {'weights': 'distance', 'n_neighbors': 11},\n mean: 0.97333, std: 0.03266, params: {'weights': 'uniform', 'n_neighbors': 12},\n mean: 0.97333, std: 0.04422, params: {'weights': 'distance', 'n_neighbors': 12},\n mean: 0.98000, std: 0.03055, params: {'weights': 'uniform', 'n_neighbors': 13},\n mean: 0.97333, std: 0.03266, params: {'weights': 'distance', 'n_neighbors': 13},\n mean: 0.97333, std: 0.04422, params: {'weights': 'uniform', 'n_neighbors': 14},\n mean: 0.97333, std: 0.03266, params: {'weights': 'distance', 'n_neighbors': 14},\n mean: 0.97333, std: 0.03266, params: {'weights': 'uniform', 'n_neighbors': 15},\n mean: 0.98000, std: 0.03055, params: {'weights': 'distance', 'n_neighbors': 15},\n mean: 0.97333, std: 0.03266, params: {'weights': 'uniform', 'n_neighbors': 16},\n mean: 0.97333, std: 0.03266, params: {'weights': 'distance', 'n_neighbors': 16},\n mean: 0.97333, std: 0.03266, params: {'weights': 'uniform', 'n_neighbors': 17},\n mean: 0.98000, std: 0.03055, params: {'weights': 'distance', 'n_neighbors': 17},\n mean: 0.98000, std: 0.03055, params: {'weights': 'uniform', 'n_neighbors': 18},\n mean: 0.97333, std: 0.03266, params: {'weights': 'distance', 'n_neighbors': 18},\n mean: 0.97333, std: 0.03266, params: {'weights': 'uniform', 'n_neighbors': 19},\n mean: 0.98000, std: 0.03055, params: {'weights': 'distance', 'n_neighbors': 19},\n mean: 0.98000, std: 0.03055, params: {'weights': 'uniform', 'n_neighbors': 20},\n mean: 0.96667, std: 0.04472, params: {'weights': 'distance', 'n_neighbors': 20},\n mean: 0.96667, std: 0.03333, params: {'weights': 'uniform', 'n_neighbors': 21},\n mean: 0.96667, std: 0.04472, params: {'weights': 'distance', 'n_neighbors': 21},\n mean: 0.96667, std: 0.03333, params: {'weights': 'uniform', 'n_neighbors': 22},\n mean: 0.96667, std: 0.04472, params: {'weights': 'distance', 'n_neighbors': 22},\n mean: 0.97333, std: 0.03266, params: {'weights': 'uniform', 'n_neighbors': 23},\n mean: 0.97333, std: 0.03266, params: {'weights': 'distance', 'n_neighbors': 23},\n mean: 0.96000, std: 0.04422, params: {'weights': 'uniform', 'n_neighbors': 24},\n mean: 0.97333, std: 0.03266, params: {'weights': 'distance', 'n_neighbors': 24},\n mean: 0.96667, std: 0.03333, params: {'weights': 'uniform', 'n_neighbors': 25},\n mean: 0.97333, std: 0.03266, params: {'weights': 'distance', 'n_neighbors': 25},\n mean: 0.96000, std: 0.04422, params: {'weights': 'uniform', 'n_neighbors': 26},\n mean: 0.96667, std: 0.04472, params: {'weights': 'distance', 'n_neighbors': 26},\n mean: 0.96667, std: 0.04472, params: {'weights': 'uniform', 'n_neighbors': 27},\n mean: 0.98000, std: 0.03055, params: {'weights': 'distance', 'n_neighbors': 27},\n mean: 0.95333, std: 0.04269, params: {'weights': 'uniform', 'n_neighbors': 28},\n mean: 0.97333, std: 0.03266, params: {'weights': 'distance', 'n_neighbors': 28},\n mean: 0.95333, std: 0.04269, params: {'weights': 'uniform', 'n_neighbors': 29},\n mean: 0.97333, std: 0.03266, params: {'weights': 'distance', 'n_neighbors': 29},\n mean: 0.95333, std: 0.04269, params: {'weights': 'uniform', 'n_neighbors': 30},\n mean: 0.96667, std: 0.03333, params: {'weights': 'distance', 'n_neighbors': 30}]"
                    }, 
                    "execution_count": 17, 
                    "output_type": "execute_result"
                }
            ]
        }, 
        {
            "metadata": {}, 
            "execution_count": 18, 
            "cell_type": "code", 
            "source": "# examine the best model\nprint(grid.best_score_)\nprint(grid.best_params_)", 
            "outputs": [
                {
                    "name": "stdout", 
                    "output_type": "stream", 
                    "text": "0.98\n{'weights': 'uniform', 'n_neighbors': 13}\n"
                }
            ]
        }, 
        {
            "metadata": {
                "collapsed": true
            }, 
            "execution_count": 19, 
            "cell_type": "code", 
            "source": "## didnt come across the multiple parameters to be optimised... :/", 
            "outputs": []
        }, 
        {
            "metadata": {}, 
            "execution_count": 20, 
            "cell_type": "code", 
            "source": "# train your model using all data and the best known parameters\nknn = KNeighborsClassifier(n_neighbors=13, weights='uniform')\nknn.fit(X, y)\n\n# make a prediction on out-of-sample data\nknn.predict([[3, 5, 4, 2]])", 
            "outputs": [
                {
                    "metadata": {}, 
                    "data": {
                        "text/plain": "array([1])"
                    }, 
                    "execution_count": 20, 
                    "output_type": "execute_result"
                }
            ]
        }, 
        {
            "metadata": {}, 
            "execution_count": 21, 
            "cell_type": "code", 
            "source": "# shortcut: GridSearchCV automatically refits the best model using all of the data\ngrid.predict([[3, 5, 4, 2]])", 
            "outputs": [
                {
                    "metadata": {}, 
                    "data": {
                        "text/plain": "array([1])"
                    }, 
                    "execution_count": 21, 
                    "output_type": "execute_result"
                }
            ]
        }, 
        {
            "metadata": {}, 
            "cell_type": "markdown", 
            "source": "### Reducing computational expense using RandomizedSearchCV\n\n    Searching many different parameters at once may be computationally infeasible\n    RandomizedSearchCV searches a subset of the parameters, and you control the computational \"budget\"\n\n"
        }, 
        {
            "metadata": {}, 
            "execution_count": 23, 
            "cell_type": "code", 
            "source": "from sklearn.grid_search import RandomizedSearchCV\n\n\n# specify \"parameter distributions\" rather than a \"parameter grid\"\nparam_dist = dict(n_neighbors=k_range, weights=weight_options)\n\n\n\n# n_iter controls the number of searches\nrand = RandomizedSearchCV(knn, param_dist, cv=10, scoring='accuracy', n_iter=10, random_state=5)\nrand.fit(X, y)\nrand.grid_scores_", 
            "outputs": [
                {
                    "metadata": {}, 
                    "data": {
                        "text/plain": "[mean: 0.97333, std: 0.03266, params: {'weights': 'distance', 'n_neighbors': 18},\n mean: 0.96667, std: 0.04472, params: {'weights': 'uniform', 'n_neighbors': 8},\n mean: 0.97333, std: 0.03266, params: {'weights': 'distance', 'n_neighbors': 24},\n mean: 0.98000, std: 0.03055, params: {'weights': 'uniform', 'n_neighbors': 20},\n mean: 0.95333, std: 0.04269, params: {'weights': 'uniform', 'n_neighbors': 28},\n mean: 0.97333, std: 0.03266, params: {'weights': 'uniform', 'n_neighbors': 9},\n mean: 0.96667, std: 0.04472, params: {'weights': 'distance', 'n_neighbors': 5},\n mean: 0.96667, std: 0.04472, params: {'weights': 'uniform', 'n_neighbors': 5},\n mean: 0.97333, std: 0.03266, params: {'weights': 'uniform', 'n_neighbors': 19},\n mean: 0.96667, std: 0.04472, params: {'weights': 'distance', 'n_neighbors': 20}]"
                    }, 
                    "execution_count": 23, 
                    "output_type": "execute_result"
                }
            ]
        }, 
        {
            "metadata": {}, 
            "execution_count": 24, 
            "cell_type": "code", 
            "source": "\n\n# run RandomizedSearchCV 40 times (with n_iter=10) and record the best score\nbest_scores = []\nfor _ in range(40):\n    rand = RandomizedSearchCV(knn, param_dist, cv=10, scoring='accuracy', n_iter=10)\n    rand.fit(X, y)\n    best_scores.append(round(rand.best_score_, 3))\nprint(best_scores)\n\n", 
            "outputs": [
                {
                    "name": "stdout", 
                    "output_type": "stream", 
                    "text": "[0.97299999999999998, 0.97999999999999998, 0.97999999999999998, 0.97999999999999998, 0.97299999999999998, 0.97999999999999998, 0.97999999999999998, 0.97299999999999998, 0.97999999999999998, 0.97999999999999998, 0.97999999999999998, 0.97999999999999998, 0.97999999999999998, 0.97299999999999998, 0.97999999999999998, 0.97999999999999998, 0.97999999999999998, 0.97999999999999998, 0.97299999999999998, 0.97299999999999998, 0.97999999999999998, 0.97999999999999998, 0.97999999999999998, 0.97999999999999998, 0.97999999999999998, 0.97999999999999998, 0.97999999999999998, 0.97999999999999998, 0.97999999999999998, 0.97999999999999998, 0.97999999999999998, 0.97999999999999998, 0.97999999999999998, 0.97999999999999998, 0.97999999999999998, 0.97999999999999998, 0.97999999999999998, 0.97299999999999998, 0.97299999999999998, 0.97299999999999998]\n"
                }
            ]
        }, 
        {
            "metadata": {
                "collapsed": true
            }, 
            "execution_count": null, 
            "cell_type": "code", 
            "source": "", 
            "outputs": []
        }
    ], 
    "nbformat_minor": 1
}