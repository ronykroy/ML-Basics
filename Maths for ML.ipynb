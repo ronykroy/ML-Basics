{
    "metadata": {
        "language_info": {
            "codemirror_mode": {
                "name": "ipython", 
                "version": 3
            }, 
            "pygments_lexer": "ipython3", 
            "file_extension": ".py", 
            "name": "python", 
            "version": "3.5.2", 
            "mimetype": "text/x-python", 
            "nbconvert_exporter": "python"
        }, 
        "kernelspec": {
            "language": "python", 
            "display_name": "Python 3.5 (Experimental) with Spark 1.6 (Unsupported)", 
            "name": "python3"
        }
    }, 
    "nbformat": 4, 
    "cells": [
        {
            "metadata": {}, 
            "execution_count": 1, 
            "cell_type": "code", 
            "source": "# NUMPY\n# create array\nfrom numpy import array\n# create array from python data type array\nl = [1.0, 2.0, 3.0]\na = array(l)\n# display array\nprint(a)\n# display array shape\nprint(a.shape)\n# display array data type\nprint(a.dtype)", 
            "outputs": [
                {
                    "name": "stdout", 
                    "output_type": "stream", 
                    "text": "[1. 2. 3.]\n(3,)\nfloat64\n"
                }
            ]
        }, 
        {
            "metadata": {}, 
            "execution_count": 2, 
            "cell_type": "code", 
            "source": "# create empty array\nfrom numpy import empty,zeros, ones\na = empty([3,3])\nprint(a)\n\nprint('*'*20)\n\na1 = zeros([3,5])\nprint(a1)\n\nprint('*'*20)\n\na2 = ones([2,7])\nprint(a2)", 
            "outputs": [
                {
                    "name": "stdout", 
                    "output_type": "stream", 
                    "text": "[[6.92848625e-310 2.56478726e-316 6.92846880e-310]\n [6.92845715e-310 6.92848711e-310 6.92848711e-310]\n [6.92848708e-310 6.92848708e-310 3.95252517e-322]]\n********************\n[[0. 0. 0. 0. 0.]\n [0. 0. 0. 0. 0.]\n [0. 0. 0. 0. 0.]]\n********************\n[[1. 1. 1. 1. 1. 1. 1.]\n [1. 1. 1. 1. 1. 1. 1.]]\n"
                }
            ]
        }, 
        {
            "metadata": {}, 
            "execution_count": 3, 
            "cell_type": "code", 
            "source": "from numpy import vstack\nb1 = array([1,2,3])\nb2 = array([[1,2,3],[5,6,7]])\nb3 = vstack((b1,b2,[2,3,45])) # various ways of stacking, and yes dimensions matching \nprint(b3)\nprint(b3.shape)\nb3[2,1]\nb4 = array([[1],[2],[3],[4]])\nprint(\"the shape of b.4 is \")\nprint( b4.shape) # 4 r & 1 c", 
            "outputs": [
                {
                    "name": "stdout", 
                    "output_type": "stream", 
                    "text": "[[ 1  2  3]\n [ 1  2  3]\n [ 5  6  7]\n [ 2  3 45]]\n(4, 3)\nthe shape of b.4 is \n(4, 1)\n"
                }
            ]
        }, 
        {
            "metadata": {}, 
            "execution_count": 4, 
            "cell_type": "code", 
            "source": "from numpy import hstack\nbh3 = hstack((b1,[3,4,5]))\nprint(bh3)\nprint(bh3.shape) #6 rows alone", 
            "outputs": [
                {
                    "name": "stdout", 
                    "output_type": "stream", 
                    "text": "[1 2 3 3 4 5]\n(6,)\n"
                }
            ]
        }, 
        {
            "metadata": {}, 
            "execution_count": 5, 
            "cell_type": "code", 
            "source": "bh3[1]", 
            "outputs": [
                {
                    "metadata": {}, 
                    "data": {
                        "text/plain": "2"
                    }, 
                    "execution_count": 5, 
                    "output_type": "execute_result"
                }
            ]
        }, 
        {
            "metadata": {}, 
            "execution_count": 6, 
            "cell_type": "code", 
            "source": "# reshape 2D array to 3D\nfrom numpy import array\n# list of data\ndata = [[11, 22],\n[33, 44],\n[55, 66]]\n# array of data\ndata = array(data)\nprint(data.shape)\n# reshape\ndata = data.reshape((data.shape[0], data.shape[1], 1))\nprint(data.shape)\n\n#It is common to need to reshape two-dimensional data where each row represents a sequence\n#into a three-dimensional array for algorithms that expect multiple samples of one or more time\n#steps and one or more features. A good example is the LSTM recurrent neural network model\n#in the Keras deep learning library", 
            "outputs": [
                {
                    "name": "stdout", 
                    "output_type": "stream", 
                    "text": "(3, 2)\n(3, 2, 1)\n"
                }
            ]
        }, 
        {
            "metadata": {}, 
            "execution_count": 7, 
            "cell_type": "code", 
            "source": "data = array([\n[11, 22, 33],\n[44, 55, 66],\n[77, 88, 99]])\n# separate data\nX, y = data[:, :-1], data[:, -1]\nprint(X)\nprint(y)", 
            "outputs": [
                {
                    "name": "stdout", 
                    "output_type": "stream", 
                    "text": "[[11 22]\n [44 55]\n [77 88]]\n[33 66 99]\n"
                }
            ]
        }, 
        {
            "metadata": {}, 
            "execution_count": 8, 
            "cell_type": "code", 
            "source": "data = array([\n[11, 22, 33],\n[44, 55, 66],\n[77, 88, 99]])\n# separate data\nX, y = data[1:2, :-1], data[:, -1] # rows range followed by columns range\nprint(X)\nprint(y)", 
            "outputs": [
                {
                    "name": "stdout", 
                    "output_type": "stream", 
                    "text": "[[44 55]]\n[33 66 99]\n"
                }
            ]
        }, 
        {
            "metadata": {}, 
            "cell_type": "markdown", 
            "source": "Arrays with di\u000berent sizes cannot be added, subtracted, or generally be used in arithmetic. A\nway to overcome this is to duplicate the smaller array so that it has the dimensionality and\nsize as the larger array. This is called array broadcasting"
        }, 
        {
            "metadata": {}, 
            "cell_type": "markdown", 
            "source": "### Broadcasting` \n#### extend an array along the last unequal dimension so that operations that require matching sizes are then possible"
        }, 
        {
            "metadata": {}, 
            "execution_count": 9, 
            "cell_type": "code", 
            "source": "# broadcast scalar to one-dimensional array\nfrom numpy import array\n# define array\na = array([1, 2, 3])\nprint(a)\n# define scalar\nb = 2\nprint(b)\n# broadcast\nc = a + b\nprint(c)", 
            "outputs": [
                {
                    "name": "stdout", 
                    "output_type": "stream", 
                    "text": "[1 2 3]\n2\n[3 4 5]\n"
                }
            ]
        }, 
        {
            "metadata": {}, 
            "execution_count": 10, 
            "cell_type": "code", 
            "source": "# broadcast scalar to two-dimensional array\nfrom numpy import array\n# define array\nA = array([\n[1, 2, 3],\n[1, 2, 3]])\nprint(A)\n# define scalar\nb = 2\nprint(b)\n# broadcast\nC = A + b\nprint(C)", 
            "outputs": [
                {
                    "name": "stdout", 
                    "output_type": "stream", 
                    "text": "[[1 2 3]\n [1 2 3]]\n2\n[[3 4 5]\n [3 4 5]]\n"
                }
            ]
        }, 
        {
            "metadata": {}, 
            "execution_count": 11, 
            "cell_type": "code", 
            "source": "# broadcast one-dimensional array to two-dimensional array\nfrom numpy import array\n# define two-dimensional array\nA = array([\n[1, 2, 3],\n[1, 2, 3]])\nprint(A)\n# define one-dimensional array\nb = array([1, 2, 3])\nprint(b)\n# broadcast\nC = A + b\nprint(C)", 
            "outputs": [
                {
                    "name": "stdout", 
                    "output_type": "stream", 
                    "text": "[[1 2 3]\n [1 2 3]]\n[1 2 3]\n[[2 4 6]\n [2 4 6]]\n"
                }
            ]
        }, 
        {
            "metadata": {}, 
            "execution_count": 12, 
            "cell_type": "code", 
            "source": "# broadcast one-dimensional array to two-dimensional array\nfrom numpy import array\n# define two-dimensional array\nA = array([\n[1, 2, 3],\n[1, 2, 3]])\nprint(A)\n# define one-dimensional array\n#b = array([[1], [2], [3]])\n# mis match can be along m or n not both at the same time :(\nb = array([[1], [2]])\nprint(b)\n# broadcast\nC = A + b\nprint(C)", 
            "outputs": [
                {
                    "name": "stdout", 
                    "output_type": "stream", 
                    "text": "[[1 2 3]\n [1 2 3]]\n[[1]\n [2]]\n[[2 3 4]\n [3 4 5]]\n"
                }
            ]
        }, 
        {
            "metadata": {}, 
            "cell_type": "markdown", 
            "source": "Arithmetic, including broadcasting, \ncan only be performed when the shape of each dimension in the arrays are equal \nor one has the dimension size of 1. \nThe dimensions are considered in reverse order, starting with the trailing\ndimension; for example, looking at columns before rows in a two-dimensional case. [n first and then m in an m*n matrix]"
        }, 
        {
            "metadata": {}, 
            "execution_count": 13, 
            "cell_type": "code", 
            "source": "# vector multiplication\nfrom numpy import array\n# define first vector\na = array([1, 2, 3])\nprint(a)\n# define second vector\nb = array([1, 2, 3])\nprint(b)\n# multiply vectors\nc = a * b\nprint(c) # actual multipllicaiton\n", 
            "outputs": [
                {
                    "name": "stdout", 
                    "output_type": "stream", 
                    "text": "[1 2 3]\n[1 2 3]\n[1 4 9]\n"
                }
            ]
        }, 
        {
            "metadata": {}, 
            "execution_count": 14, 
            "cell_type": "code", 
            "source": "c = a - b\nprint(c)", 
            "outputs": [
                {
                    "name": "stdout", 
                    "output_type": "stream", 
                    "text": "[0 0 0]\n"
                }
            ]
        }, 
        {
            "metadata": {}, 
            "execution_count": 15, 
            "cell_type": "code", 
            "source": "c = a + b\nprint(c)", 
            "outputs": [
                {
                    "name": "stdout", 
                    "output_type": "stream", 
                    "text": "[2 4 6]\n"
                }
            ]
        }, 
        {
            "metadata": {}, 
            "execution_count": 16, 
            "cell_type": "code", 
            "source": "c = a / b\nprint(c)", 
            "outputs": [
                {
                    "name": "stdout", 
                    "output_type": "stream", 
                    "text": "[1. 1. 1.]\n"
                }
            ]
        }, 
        {
            "metadata": {}, 
            "execution_count": 17, 
            "cell_type": "code", 
            "source": "c = a.dot(b)\nprint(c) # dot product", 
            "outputs": [
                {
                    "name": "stdout", 
                    "output_type": "stream", 
                    "text": "14\n"
                }
            ]
        }, 
        {
            "metadata": {}, 
            "execution_count": 18, 
            "cell_type": "code", 
            "source": "d=5.3\nc = a * d\nprint(c)", 
            "outputs": [
                {
                    "name": "stdout", 
                    "output_type": "stream", 
                    "text": "[ 5.3 10.6 15.9]\n"
                }
            ]
        }, 
        {
            "metadata": {}, 
            "execution_count": 19, 
            "cell_type": "code", 
            "source": "##stopped at vector norms", 
            "outputs": []
        }, 
        {
            "metadata": {}, 
            "execution_count": 20, 
            "cell_type": "code", 
            "source": "# L1 norm: sum of absolute values\n# L2 norm square root of sum of sqares of the vector elements\n# max.. manx element of the vector\n\n# the above are ways to calculate vector norm.. or vector magnitude.", 
            "outputs": []
        }, 
        {
            "metadata": {}, 
            "execution_count": 21, 
            "cell_type": "code", 
            "source": "# vector L2 norm\nfrom numpy import array\nfrom numpy.linalg import norm\n# define vector\na = array([1, 2, 3])\nprint(a)\n# calculate norm\nl2 = norm(a)\nprint(l2)", 
            "outputs": [
                {
                    "name": "stdout", 
                    "output_type": "stream", 
                    "text": "[1 2 3]\n3.7416573867739413\n"
                }
            ]
        }, 
        {
            "metadata": {}, 
            "execution_count": 22, 
            "cell_type": "code", 
            "source": "l1 = norm(a,1) # call norm funciton with 1 as the parameter", 
            "outputs": []
        }, 
        {
            "metadata": {}, 
            "execution_count": 23, 
            "cell_type": "code", 
            "source": "print(l1)", 
            "outputs": [
                {
                    "name": "stdout", 
                    "output_type": "stream", 
                    "text": "6.0\n"
                }
            ]
        }, 
        {
            "metadata": {}, 
            "execution_count": 25, 
            "cell_type": "code", 
            "source": "from math import inf # this is required\nfrom numpy import array\nfrom numpy.linalg import norm\n\nlinf = norm(a,inf) # inf as in infinity... :0 go figure...\nprint(linf)", 
            "outputs": [
                {
                    "name": "stdout", 
                    "output_type": "stream", 
                    "text": "3.0\n"
                }
            ]
        }, 
        {
            "metadata": {}, 
            "execution_count": 26, 
            "cell_type": "code", 
            "source": "# matrix addition, subtraction nothing new\n# matrix multiplicaiton.. \n# the circle product is what they refer to as Hadamard produt\n# hadamard product involves direct term by term multiplicaiton of elements to forma  a new matrix\n\n# matrix Hadamard product\nfrom numpy import array\n# define first matrix\nA = array([\n[1, 2, 3],\n[4, 5, 6]])\nprint(A)\n# define second matrix\nB = array([\n[1, 2, 3],\n[4, 5, 6]])\nprint(B)\n# multiply matrices\nC = A * B\nprint(C)", 
            "outputs": [
                {
                    "name": "stdout", 
                    "output_type": "stream", 
                    "text": "[[1 2 3]\n [4 5 6]]\n[[1 2 3]\n [4 5 6]]\n[[ 1  4  9]\n [16 25 36]]\n"
                }
            ]
        }, 
        {
            "metadata": {}, 
            "execution_count": 27, 
            "cell_type": "code", 
            "source": "# matrix division.. term by term division\nC = A / B\nprint(C)", 
            "outputs": [
                {
                    "name": "stdout", 
                    "output_type": "stream", 
                    "text": "[[1. 1. 1.]\n [1. 1. 1.]]\n"
                }
            ]
        }, 
        {
            "metadata": {}, 
            "execution_count": 29, 
            "cell_type": "code", 
            "source": "# matrix multiplicaiton\n# the actrual multiplication A(m,n).B(n,k) yeilds a matrix C(m,k)\n# matrix dot product\nfrom numpy import array\n# define first matrix\nA = array([\n[1, 2],\n[3, 4],\n[5, 6]])\nprint(A)\n# define second matrix\nB = array([\n[1, 2],\n[3, 4]])\nprint(B)\n# multiply matrices\nC = A.dot(B)\nprint('c is...')\nprint(C)\n# multiply matrices with @ operator\nD = A @ B\nprint('d is...')\nprint(D)", 
            "outputs": [
                {
                    "name": "stdout", 
                    "output_type": "stream", 
                    "text": "[[1 2]\n [3 4]\n [5 6]]\n[[1 2]\n [3 4]]\nc is...\n[[ 7 10]\n [15 22]\n [23 34]]\nd is...\n[[ 7 10]\n [15 22]\n [23 34]]\n"
                }
            ]
        }, 
        {
            "metadata": {}, 
            "execution_count": 30, 
            "cell_type": "code", 
            "source": "# matrix vector multiplicaiotn\n# c = A.v or even compact noatioan c = Av\n# notice the lower case letters used for vectors\n# matrix-vector multiplication\nfrom numpy import array\n# define matrix\nA = array([\n[1, 2],\n[3, 4],\n[5, 6]])\nprint(A)\n# define vector\nB = array([0.5, 0.5])\nprint(B)\n# multiply\nC = A.dot(B)\nprint(C)", 
            "outputs": [
                {
                    "name": "stdout", 
                    "output_type": "stream", 
                    "text": "[[1 2]\n [3 4]\n [5 6]]\n[0.5 0.5]\n[1.5 3.5 5.5]\n"
                }
            ]
        }, 
        {
            "metadata": {}, 
            "execution_count": 31, 
            "cell_type": "code", 
            "source": "# try reversing.. should yeild error message\n#C = B.dot(A)\n#print(C)", 
            "outputs": [
                {
                    "ename": "ValueError", 
                    "evalue": "shapes (2,) and (3,2) not aligned: 2 (dim 0) != 3 (dim 0)", 
                    "traceback": [
                        "\u001b[1;31m\u001b[0m", 
                        "\u001b[1;31mValueError\u001b[0mTraceback (most recent call last)", 
                        "\u001b[1;32m<ipython-input-31-b8d1d1d20f6b>\u001b[0m in \u001b[0;36m<module>\u001b[1;34m()\u001b[0m\n\u001b[0;32m      1\u001b[0m \u001b[1;31m# try reversing.. should yeild error message\u001b[0m\u001b[1;33m\u001b[0m\u001b[1;33m\u001b[0m\u001b[0m\n\u001b[1;32m----> 2\u001b[1;33m \u001b[0mC\u001b[0m \u001b[1;33m=\u001b[0m \u001b[0mB\u001b[0m\u001b[1;33m.\u001b[0m\u001b[0mdot\u001b[0m\u001b[1;33m(\u001b[0m\u001b[0mA\u001b[0m\u001b[1;33m)\u001b[0m\u001b[1;33m\u001b[0m\u001b[0m\n\u001b[0m\u001b[0;32m      3\u001b[0m \u001b[0mprint\u001b[0m\u001b[1;33m(\u001b[0m\u001b[0mC\u001b[0m\u001b[1;33m)\u001b[0m\u001b[1;33m\u001b[0m\u001b[0m\n", 
                        "\u001b[1;31mValueError\u001b[0m: shapes (2,) and (3,2) not aligned: 2 (dim 0) != 3 (dim 0)"
                    ], 
                    "output_type": "error"
                }
            ]
        }, 
        {
            "metadata": {}, 
            "execution_count": 33, 
            "cell_type": "code", 
            "source": "#Matrix scalar multiplicaiton\nb =12\nA = C*b\nprint(A)", 
            "outputs": [
                {
                    "name": "stdout", 
                    "output_type": "stream", 
                    "text": "[18. 42. 66.]\n"
                }
            ]
        }, 
        {
            "metadata": {}, 
            "execution_count": null, 
            "cell_type": "code", 
            "source": "#Chap 10", 
            "outputs": []
        }, 
        {
            "metadata": {}, 
            "execution_count": null, 
            "cell_type": "code", 
            "source": "", 
            "outputs": []
        }, 
        {
            "metadata": {}, 
            "execution_count": null, 
            "cell_type": "code", 
            "source": "", 
            "outputs": []
        }, 
        {
            "metadata": {}, 
            "execution_count": null, 
            "cell_type": "code", 
            "source": "", 
            "outputs": []
        }
    ], 
    "nbformat_minor": 2
}